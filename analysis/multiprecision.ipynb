{
 "cells": [
  {
   "cell_type": "markdown",
   "id": "badd08e0",
   "metadata": {},
   "source": [
    "# Multiprecision exploration\n",
    "The final part of every algorithm proposed has to compute\n",
    "$$ \\frac{1}{n} \\sum_{i=0}^{n-1} cos(x_i) $$\n",
    "\n",
    "in this notebook I'll explore the possibility of approximating this computation."
   ]
  },
  {
   "cell_type": "markdown",
   "id": "41174dd8",
   "metadata": {},
   "source": [
    "## Original python implementation\n",
    "```python\n",
    "@impl(Algorithm.RS, Backend.NUMPY, [Device.CPU], description = 'array programming implementation')\n",
    "def rs(x: Tensor, y: Tensor, z: Tensor, pists: Tensor, xx: Tensor, yy: Tensor, C1: float, C2: float):\n",
    "    return np.angle(\n",
    "        np.mean(\n",
    "            np.exp(\n",
    "                1j * (\n",
    "                    C1 * (x[:,ε]*xx[ε,:] + y[:,ε]*yy[ε,:]) +\n",
    "                    C2 * z[:,ε] * (xx**2 + yy**2)[ε,:] +\n",
    "                    2*np.pi*pists[:,ε]\n",
    "                )\n",
    "            ),\n",
    "            axis=0\n",
    "        )\n",
    "    )\n",
    "```\n",
    "\n",
    "I want to understand the distribution of the arrays inside the complex exponential functions. I'll pick as spots and SLM parameters values I have found [at the original repository](https://github.com/ppozzi/SLM-3dPointCloud)"
   ]
  },
  {
   "cell_type": "markdown",
   "id": "1b67a77e",
   "metadata": {},
   "source": [
    "# Input generation functions"
   ]
  },
  {
   "cell_type": "code",
   "execution_count": 1,
   "id": "1373c77f",
   "metadata": {},
   "outputs": [],
   "source": [
    "import numpy as np\n",
    "from slmporting.core.slm import SLM\n",
    "from slmporting.core.types import Backend, Device\n",
    "from slmporting.utils.units import Unit, Length"
   ]
  },
  {
   "cell_type": "code",
   "execution_count": 2,
   "id": "b0b46669",
   "metadata": {},
   "outputs": [],
   "source": [
    "# generate points uniformely distributed in a grid (same as reference)\n",
    "def generate_grid_points(n: int, size):\n",
    "    lin = np.linspace(-size/2, size/2, num=n)\n",
    "    x, y = np.meshgrid(lin, lin)\n",
    "\n",
    "    x = x.flatten()\n",
    "    y = y.flatten()\n",
    "    z = np.zeros_like(x)\n",
    "\n",
    "    return x, y, z"
   ]
  },
  {
   "cell_type": "code",
   "execution_count": 3,
   "id": "9bbbc9a7",
   "metadata": {},
   "outputs": [],
   "source": [
    "# compute the inner parenthesis\n",
    "def compute_cosine_input(x, y, z, slm: SLM):\n",
    "    ε = np.newaxis\n",
    "    C1 = slm.C1\n",
    "    C2 = slm.C2\n",
    "    xx = slm.xx.convert_to(Backend.NUMPY)\n",
    "    yy = slm.yy.convert_to(Backend.NUMPY)\n",
    "\n",
    "    return C1 * (x[:,ε]*xx[ε,:] + y[:,ε]*yy[ε,:]) + \\\n",
    "           C2 * z[:,ε] * (xx**2 + yy**2)[ε,:]"
   ]
  },
  {
   "cell_type": "markdown",
   "id": "6b2e583e",
   "metadata": {},
   "source": [
    "# Results"
   ]
  },
  {
   "cell_type": "code",
   "execution_count": 4,
   "id": "66d37d02",
   "metadata": {},
   "outputs": [
    {
     "name": "stderr",
     "output_type": "stream",
     "text": [
      "/home/matteo/github/slm-porting/venv/lib/python3.12/site-packages/torch/functional.py:505: UserWarning: torch.meshgrid: in an upcoming release, it will be required to pass the indexing argument. (Triggered internally at /pytorch/aten/src/ATen/native/TensorShape.cpp:4317.)\n",
      "  return _VF.meshgrid(tensors, **kwargs)  # type: ignore[attr-defined]\n"
     ]
    }
   ],
   "source": [
    "# generate an SLM configuration according to specs\n",
    "slm_to_pupil_magnification = 5.0 / 3.0\n",
    "\n",
    "slm = SLM(\n",
    "    focal = Length(180.0/20.0, Unit.MILLIMETERS),\n",
    "    pixel_size = Length(slm_to_pupil_magnification * 9.2, Unit.MICROMETERS),\n",
    "    wavelength = Length(800.0, Unit.NANOMETERS),\n",
    "    resolution = 512,\n",
    ")\n",
    "\n",
    "# slm = SLM.get_standard_slm()"
   ]
  },
  {
   "cell_type": "code",
   "execution_count": 5,
   "id": "054733c6",
   "metadata": {},
   "outputs": [],
   "source": [
    "x, y, z = generate_grid_points(10, size=300.0)\n",
    "cosine_input = compute_cosine_input(x, y, z, slm).flatten()"
   ]
  },
  {
   "cell_type": "code",
   "execution_count": 6,
   "id": "e9f84e6d",
   "metadata": {},
   "outputs": [
    {
     "name": "stdout",
     "output_type": "stream",
     "text": [
      "cosine_input.shape = (20501200,)\n",
      "cosine_input.size: 156.41 MB\n"
     ]
    }
   ],
   "source": [
    "print(f'cosine_input.shape = {cosine_input.shape}')\n",
    "print(f'cosine_input.size: {cosine_input.nbytes / 1024 / 1024:.2f} MB')"
   ]
  },
  {
   "cell_type": "code",
   "execution_count": 7,
   "id": "8f270448",
   "metadata": {},
   "outputs": [
    {
     "data": {
      "image/png": "[encoded data removed]",
      "text/plain": [
       "<Figure size 640x480 with 1 Axes>"
      ]
     },
     "metadata": {},
     "output_type": "display_data"
    }
   ],
   "source": [
    "import matplotlib.pyplot as plt\n",
    "\n",
    "plt.title(\"Distribution of $x$ in $cos(x)$\")\n",
    "plt.hist(cosine_input, bins = 100, density=True)\n",
    "plt.show()"
   ]
  },
  {
   "cell_type": "markdown",
   "id": "c2d97436",
   "metadata": {},
   "source": [
    "When the input of the cosine and sine functions is in an interval so big, approximations like taylor series will fail.\n",
    "\n",
    "It's interesting to note that our control mechanism is to sum a random piston (which is in $[0, 2 \\pi]$) to this input before taking the cosine/sine. I think that smaller float datatypes will struggle in maintaining precision both in the hundreds and in the units or tenths of units"
   ]
  },
  {
   "cell_type": "markdown",
   "id": "67943130",
   "metadata": {},
   "source": [
    "# Multiprecision test"
   ]
  },
  {
   "cell_type": "code",
   "execution_count": 8,
   "id": "d0a2be2d",
   "metadata": {},
   "outputs": [],
   "source": [
    "from slmporting.core.types import Algorithm, Backend, Device, DType\n",
    "from slmporting.core.array import Array"
   ]
  },
  {
   "cell_type": "code",
   "execution_count": 9,
   "id": "90b6247a",
   "metadata": {},
   "outputs": [],
   "source": [
    "import slmporting.impl.impl_numpy\n",
    "\n",
    "impl = [\n",
    "    impl\n",
    "    for impl in slmporting.impl.impl_numpy.IMPLS\n",
    "    if (impl.algorithm == Algorithm.RS)\n",
    "][0]()"
   ]
  },
  {
   "cell_type": "code",
   "execution_count": 10,
   "id": "02988d78",
   "metadata": {},
   "outputs": [],
   "source": [
    "x, y, z = generate_grid_points(10, size=300.0)\n",
    "pists = Array(np.random.uniform(size=x.size))\n",
    "x = Array(x)\n",
    "y = Array(y)\n",
    "z = Array(z)"
   ]
  },
  {
   "cell_type": "code",
   "execution_count": 11,
   "id": "714fd778",
   "metadata": {},
   "outputs": [],
   "source": [
    "phase = {\n",
    "    dtype: impl(x, y, z, pists, slm, dtype=dtype)[0]\n",
    "    for dtype in [DType.fp32, DType.fp64]\n",
    "}"
   ]
  },
  {
   "cell_type": "code",
   "execution_count": 12,
   "id": "c002e059",
   "metadata": {},
   "outputs": [],
   "source": [
    "abs_err = np.abs(phase[DType.fp64] - phase[DType.fp32])\n",
    "rel_err = abs_err / np.abs(phase[DType.fp64])"
   ]
  },
  {
   "cell_type": "code",
   "execution_count": 13,
   "id": "10781d08",
   "metadata": {},
   "outputs": [
    {
     "data": {
      "image/png": "[encoded data removed]",
      "text/plain": [
       "<Figure size 640x480 with 1 Axes>"
      ]
     },
     "metadata": {},
     "output_type": "display_data"
    }
   ],
   "source": [
    "plt.title('Relative error distribution')\n",
    "plt.boxplot(np.log10(rel_err), tick_labels=['fp32'])\n",
    "plt.ylabel('$log_{10}(rerr)$')\n",
    "plt.show()"
   ]
  }
 ],
 "metadata": {
  "kernelspec": {
   "display_name": "venv",
   "language": "python",
   "name": "python3"
  },
  "language_info": {
   "codemirror_mode": {
    "name": "ipython",
    "version": 3
   },
   "file_extension": ".py",
   "mimetype": "text/x-python",
   "name": "python",
   "nbconvert_exporter": "python",
   "pygments_lexer": "ipython3",
   "version": "3.12.3"
  }
 },
 "nbformat": 4,
 "nbformat_minor": 5
}
