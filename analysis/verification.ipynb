{
 "cells": [
  {
   "cell_type": "markdown",
   "id": "1626d506",
   "metadata": {},
   "source": [
    "# Verification results notebook\n",
    "This notebook can optionally run a batch of tests in which all the selected implementations across backends and possibly devices are compared against a reference implementation on a distribution of initial conditions.\n",
    "\n",
    "I decided to include the test runs inside the notebook. This way I can:\n",
    "  * control the experiments from a single source of truth\n",
    "  * put in the same file the generation of the dataset and its processing (although the generation could be \"cached\")\n",
    "  * possibly connect with remote devices (with Jupyter remote server) and collect interesting data"
   ]
  },
  {
   "cell_type": "code",
   "execution_count": 1,
   "id": "80102e4b",
   "metadata": {},
   "outputs": [],
   "source": [
    "import numpy as np\n",
    "import pandas as pd\n",
    "import matplotlib.pyplot as plt"
   ]
  },
  {
   "cell_type": "code",
   "execution_count": 2,
   "id": "d098497e",
   "metadata": {},
   "outputs": [],
   "source": [
    "# these are the columns of the dataset we will study\n",
    "COLUMNS = [\n",
    "    'algorithm',\n",
    "    'name',\n",
    "    'backend',\n",
    "    'device',\n",
    "    'dtype',\n",
    "    'seed',\n",
    "    'abs_err',\n",
    "    'rel_err',\n",
    "    'transfer_time',\n",
    "    'compute_time',\n",
    "]"
   ]
  },
  {
   "cell_type": "markdown",
   "id": "bd3bf35a",
   "metadata": {},
   "source": [
    "## Test runner implementation"
   ]
  },
  {
   "cell_type": "code",
   "execution_count": 3,
   "id": "1a9928e2",
   "metadata": {},
   "outputs": [],
   "source": [
    "import jax\n",
    "import jax.numpy as jnp\n",
    "jax.config.update('jax_enable_x64', True)\n",
    "import numpy as np\n",
    "\n",
    "from slmporting.core.slm import SLM\n",
    "from slmporting.core.array import Array\n",
    "from slmporting.core.types import Algorithm, Backend, Device, DType"
   ]
  },
  {
   "cell_type": "code",
   "execution_count": 4,
   "id": "4fa83b96",
   "metadata": {},
   "outputs": [],
   "source": [
    "# functions to manage the rng state, the user initializes the rng from an integer\n",
    "# these functions must be exported because other experiments share the same functionality\n",
    "def key_to_int(key):\n",
    "    \"\"\"Combine two uint32 values into a single 64-bit integer seed.\"\"\"\n",
    "    return int(key[0]) << 32 | int(key[1])\n",
    "\n",
    "\n",
    "def int_to_key(seed):\n",
    "    \"\"\"Recreate the PRNGKey from the integer seed.\"\"\"\n",
    "    upper = (seed >> 32) & 0xFFFFFFFF\n",
    "    lower = seed & 0xFFFFFFFF\n",
    "    return jnp.array([upper, lower], dtype=jnp.uint32)\n",
    "\n",
    "\n",
    "def generate_input_data(key, n: int):\n",
    "    key, subkey = jax.random.split(key)\n",
    "    subkeys = jax.random.split(subkey, 4)\n",
    "\n",
    "    x     = Array(jax.random.uniform(subkeys[0], n, minval=-50.0, maxval=50.0))\n",
    "    y     = Array(jax.random.uniform(subkeys[1], n, minval=-50.0, maxval=50.0))\n",
    "    z     = Array(jax.random.uniform(subkeys[2], n, minval=-5.0 , maxval=5.0))\n",
    "    pists = Array(jax.random.uniform(subkeys[3], n, minval=0.0  , maxval=1.0))\n",
    "\n",
    "    return (key, subkey), (x, y, z, pists)"
   ]
  },
  {
   "cell_type": "code",
   "execution_count": 5,
   "id": "9ad5fba8",
   "metadata": {},
   "outputs": [],
   "source": [
    "import itertools\n",
    "import slmporting.impl.impl_numpy\n",
    "import slmporting.impl.impl_jax\n",
    "import slmporting.impl.impl_torch\n",
    "import slmporting.impl.impl_cpp\n",
    "\n",
    "# function for filtering the implementations based on\n",
    "#   * requested backends\n",
    "#   * requested devices\n",
    "def filter_implementations(\n",
    "        requested_algorithm: list,\n",
    "        requested_backends: list):\n",
    "\n",
    "    def filter_fcn(impl):\n",
    "        return (impl.backend in requested_backends) and \\\n",
    "               (impl.algorithm in requested_algorithm)\n",
    "\n",
    "    all_implementations = itertools.chain(\n",
    "        slmporting.impl.impl_numpy.IMPLS,\n",
    "        slmporting.impl.impl_jax.IMPLS,\n",
    "        slmporting.impl.impl_torch.IMPLS,\n",
    "        slmporting.impl.impl_cpp.IMPLS,\n",
    "    )\n",
    "\n",
    "    return list(filter(filter_fcn, all_implementations))"
   ]
  },
  {
   "cell_type": "code",
   "execution_count": 6,
   "id": "fc40a4c5",
   "metadata": {},
   "outputs": [],
   "source": [
    "# we are dealing with a number that lives in [0, 2π]\n",
    "# and wraps, so 2π-ε and ε are quite close\n",
    "def abs_error_function(x, y):\n",
    "    return np.max(np.abs(x-y))\n",
    "\n",
    "def rel_error_function(x, y):\n",
    "    return np.max(np.abs((x-y)/x))"
   ]
  },
  {
   "cell_type": "code",
   "execution_count": 7,
   "id": "ec4d0abc",
   "metadata": {},
   "outputs": [],
   "source": [
    "from tqdm.notebook import tqdm\n",
    "\n",
    "# this test is made only for CPU devices,\n",
    "# but it should be extended for GPU use\n",
    "def run_test_batch(\n",
    "    seed: int,\n",
    "    nruns: int,\n",
    "    requested_backends = [\n",
    "        Backend.NUMPY,\n",
    "        Backend.JAX,\n",
    "        Backend.TORCH,\n",
    "        Backend.CPP,\n",
    "    ],\n",
    "    nspots: int = 100) -> pd.DataFrame:\n",
    "\n",
    "    key = int_to_key(seed)\n",
    "    slm = SLM.get_standard_slm()\n",
    "\n",
    "    algorithm = Algorithm.RS\n",
    "    matching_implementations = [\n",
    "        impl()\n",
    "        for impl in filter_implementations(\n",
    "            [algorithm],\n",
    "            requested_backends,\n",
    "        )\n",
    "    ]\n",
    "    assert(len(matching_implementations) > 0)\n",
    "\n",
    "    # the structure where I push the experiment data,\n",
    "    # to be later transformed into a pandas dataframe\n",
    "    acc = []\n",
    "\n",
    "    for run_idx in tqdm(range(nruns)):\n",
    "        (key, subkey), (x, y, z, pists) = generate_input_data(key, nspots)\n",
    "\n",
    "        reference_impl = matching_implementations[0]\n",
    "        reference_phase, _ = reference_impl(x, y, z, pists, slm)\n",
    "\n",
    "        for impl in matching_implementations:\n",
    "            assert(impl.algorithm == algorithm)\n",
    "            alternative_phase, times = impl(x, y, z, pists, slm)\n",
    "\n",
    "            total_time = times.transfer_time + times.compute_time\n",
    "\n",
    "            acc.append((\n",
    "                algorithm,\n",
    "                impl.name,\n",
    "                impl.backend,\n",
    "                Device.CPU,\n",
    "                DType.fp64,\n",
    "                key_to_int(key),\n",
    "                abs_error_function(reference_phase, alternative_phase),\n",
    "                rel_error_function(reference_phase, alternative_phase),\n",
    "                times.transfer_time,\n",
    "                times.compute_time\n",
    "            ))\n",
    "\n",
    "    return pd.DataFrame(acc, columns=COLUMNS)"
   ]
  },
  {
   "cell_type": "markdown",
   "id": "fbcbdb43",
   "metadata": {},
   "source": [
    "## Optional test execution"
   ]
  },
  {
   "cell_type": "markdown",
   "id": "c99a1dc5",
   "metadata": {},
   "source": [
    "This notebook is meant to be executed on:\n",
    "  * my working laptop\n",
    "  * a google colab environment\n",
    "  * my computing cluster\n",
    "\n",
    "I propose the use of environment variables that override the notebook execution parameters. This way I can remotely execute a complete notebook without any manual intervention. This is a snippet for starting an asynchronous jupyter notebook:\n",
    "\n",
    "```bash\n",
    "nohup jupyter nbconvert --to notebook --execute verification.ipynb --output result.ipynb > notebook.log 2>&1 &\n",
    "```"
   ]
  },
  {
   "cell_type": "code",
   "execution_count": 8,
   "id": "c6eec10f",
   "metadata": {},
   "outputs": [],
   "source": [
    "import os\n",
    "\n",
    "def get_notebook_execution_parameters(\n",
    "    csv_filename: str,\n",
    "    seed: int,\n",
    "    nruns: int,\n",
    "):\n",
    "    csv_filename = os.environ.get('SLM_OUTPUT_CSV') or csv_filename\n",
    "    seed = os.environ.get('SLM_SEED') or seed\n",
    "    nruns = os.environ.get('SLM_NRUNS') or nruns\n",
    "\n",
    "    return csv_filename, seed, nruns"
   ]
  },
  {
   "cell_type": "code",
   "execution_count": 9,
   "id": "b2b5af78",
   "metadata": {},
   "outputs": [],
   "source": [
    "csv_filename, seed, nruns = get_notebook_execution_parameters(\n",
    "    csv_filename='results/hp_laptop.csv',\n",
    "    seed=99,\n",
    "    nruns=100\n",
    ")"
   ]
  },
  {
   "cell_type": "code",
   "execution_count": 10,
   "id": "a47ff5fa",
   "metadata": {},
   "outputs": [],
   "source": [
    "try:\n",
    "    df = pd.read_csv(csv_filename)\n",
    "except FileNotFoundError:\n",
    "    df = run_test_batch(seed, nruns)\n",
    "    df.to_csv(csv_filename, index=False)"
   ]
  },
  {
   "cell_type": "markdown",
   "id": "3ea8fdec",
   "metadata": {},
   "source": [
    "## Data analysis"
   ]
  },
  {
   "cell_type": "markdown",
   "id": "515f8814",
   "metadata": {},
   "source": [
    "### Preprocessing"
   ]
  },
  {
   "cell_type": "code",
   "execution_count": 11,
   "id": "2904d1e4",
   "metadata": {},
   "outputs": [],
   "source": [
    "df['total_time'] = df['transfer_time'] + df['compute_time']"
   ]
  },
  {
   "cell_type": "code",
   "execution_count": 12,
   "id": "cb955a15",
   "metadata": {},
   "outputs": [],
   "source": [
    "# those columns are enums, not strings. I convert them into strings\n",
    "# so that the further processing follows a more traditional workflow\n",
    "for column_name in ['algorithm', 'backend', 'device', 'dtype']:\n",
    "    df[column_name] = df[column_name].apply(\n",
    "        lambda a: str(a).split('.')[-1]\n",
    "    )"
   ]
  },
  {
   "cell_type": "code",
   "execution_count": 13,
   "id": "32ae4e96",
   "metadata": {},
   "outputs": [],
   "source": [
    "backend_color_map = {\n",
    "    'NUMPY': '#568df5',\n",
    "    'JAX': '#52fa85',\n",
    "    'TORCH': '#fa6b52',\n",
    "    'CPP': '#2617ff'\n",
    "}"
   ]
  },
  {
   "cell_type": "code",
   "execution_count": 14,
   "id": "8e37ddbc",
   "metadata": {},
   "outputs": [],
   "source": [
    "# In the following analyses I need to group the data by backend\n",
    "# and then by implementation name.\n",
    "grouped_by_backend = df.groupby('backend')"
   ]
  },
  {
   "cell_type": "code",
   "execution_count": 15,
   "id": "084b7bd1",
   "metadata": {},
   "outputs": [
    {
     "data": {
      "text/html": [
       "<div>\n",
       "<style scoped>\n",
       "    .dataframe tbody tr th:only-of-type {\n",
       "        vertical-align: middle;\n",
       "    }\n",
       "\n",
       "    .dataframe tbody tr th {\n",
       "        vertical-align: top;\n",
       "    }\n",
       "\n",
       "    .dataframe thead th {\n",
       "        text-align: right;\n",
       "    }\n",
       "</style>\n",
       "<table border=\"1\" class=\"dataframe\">\n",
       "  <thead>\n",
       "    <tr style=\"text-align: right;\">\n",
       "      <th></th>\n",
       "      <th>algorithm</th>\n",
       "      <th>name</th>\n",
       "      <th>backend</th>\n",
       "      <th>device</th>\n",
       "      <th>dtype</th>\n",
       "      <th>seed</th>\n",
       "      <th>abs_err</th>\n",
       "      <th>rel_err</th>\n",
       "      <th>transfer_time</th>\n",
       "      <th>compute_time</th>\n",
       "      <th>total_time</th>\n",
       "    </tr>\n",
       "  </thead>\n",
       "  <tbody>\n",
       "    <tr>\n",
       "      <th>0</th>\n",
       "      <td>RS</td>\n",
       "      <td>rs</td>\n",
       "      <td>NUMPY</td>\n",
       "      <td>CPU</td>\n",
       "      <td>fp64</td>\n",
       "      <td>10350481614395321474</td>\n",
       "      <td>0.000000e+00</td>\n",
       "      <td>0.000000e+00</td>\n",
       "      <td>0.000132</td>\n",
       "      <td>0.563160</td>\n",
       "      <td>0.563293</td>\n",
       "    </tr>\n",
       "    <tr>\n",
       "      <th>1</th>\n",
       "      <td>RS</td>\n",
       "      <td>rs_no_complex</td>\n",
       "      <td>NUMPY</td>\n",
       "      <td>CPU</td>\n",
       "      <td>fp64</td>\n",
       "      <td>10350481614395321474</td>\n",
       "      <td>4.440892e-16</td>\n",
       "      <td>3.936921e-16</td>\n",
       "      <td>0.000179</td>\n",
       "      <td>0.450990</td>\n",
       "      <td>0.451169</td>\n",
       "    </tr>\n",
       "    <tr>\n",
       "      <th>2</th>\n",
       "      <td>RS</td>\n",
       "      <td>rs</td>\n",
       "      <td>JAX</td>\n",
       "      <td>CPU</td>\n",
       "      <td>fp64</td>\n",
       "      <td>10350481614395321474</td>\n",
       "      <td>3.167910e-12</td>\n",
       "      <td>1.714339e-09</td>\n",
       "      <td>0.000586</td>\n",
       "      <td>0.167671</td>\n",
       "      <td>0.168258</td>\n",
       "    </tr>\n",
       "    <tr>\n",
       "      <th>3</th>\n",
       "      <td>RS</td>\n",
       "      <td>rs_no_complex</td>\n",
       "      <td>JAX</td>\n",
       "      <td>CPU</td>\n",
       "      <td>fp64</td>\n",
       "      <td>10350481614395321474</td>\n",
       "      <td>3.167910e-12</td>\n",
       "      <td>1.714339e-09</td>\n",
       "      <td>0.000894</td>\n",
       "      <td>0.336545</td>\n",
       "      <td>0.337439</td>\n",
       "    </tr>\n",
       "    <tr>\n",
       "      <th>4</th>\n",
       "      <td>RS</td>\n",
       "      <td>rs_vmap</td>\n",
       "      <td>JAX</td>\n",
       "      <td>CPU</td>\n",
       "      <td>fp64</td>\n",
       "      <td>10350481614395321474</td>\n",
       "      <td>3.013589e-12</td>\n",
       "      <td>2.272637e-09</td>\n",
       "      <td>0.000534</td>\n",
       "      <td>0.210408</td>\n",
       "      <td>0.210942</td>\n",
       "    </tr>\n",
       "    <tr>\n",
       "      <th>5</th>\n",
       "      <td>RS</td>\n",
       "      <td>rs</td>\n",
       "      <td>TORCH</td>\n",
       "      <td>CPU</td>\n",
       "      <td>fp64</td>\n",
       "      <td>10350481614395321474</td>\n",
       "      <td>1.247891e-13</td>\n",
       "      <td>6.095896e-12</td>\n",
       "      <td>0.000176</td>\n",
       "      <td>1.943525</td>\n",
       "      <td>1.943701</td>\n",
       "    </tr>\n",
       "    <tr>\n",
       "      <th>6</th>\n",
       "      <td>RS</td>\n",
       "      <td>rs_no_complex</td>\n",
       "      <td>TORCH</td>\n",
       "      <td>CPU</td>\n",
       "      <td>fp64</td>\n",
       "      <td>10350481614395321474</td>\n",
       "      <td>5.417888e-14</td>\n",
       "      <td>6.095730e-12</td>\n",
       "      <td>0.000274</td>\n",
       "      <td>0.152222</td>\n",
       "      <td>0.152496</td>\n",
       "    </tr>\n",
       "    <tr>\n",
       "      <th>7</th>\n",
       "      <td>RS</td>\n",
       "      <td>rs</td>\n",
       "      <td>CPP</td>\n",
       "      <td>CPU</td>\n",
       "      <td>fp64</td>\n",
       "      <td>10350481614395321474</td>\n",
       "      <td>3.027800e-12</td>\n",
       "      <td>2.151268e-09</td>\n",
       "      <td>0.000261</td>\n",
       "      <td>0.023109</td>\n",
       "      <td>0.023370</td>\n",
       "    </tr>\n",
       "    <tr>\n",
       "      <th>8</th>\n",
       "      <td>RS</td>\n",
       "      <td>rs_simd</td>\n",
       "      <td>CPP</td>\n",
       "      <td>CPU</td>\n",
       "      <td>fp64</td>\n",
       "      <td>10350481614395321474</td>\n",
       "      <td>5.399237e-12</td>\n",
       "      <td>4.612056e-10</td>\n",
       "      <td>0.000234</td>\n",
       "      <td>0.022460</td>\n",
       "      <td>0.022695</td>\n",
       "    </tr>\n",
       "    <tr>\n",
       "      <th>9</th>\n",
       "      <td>RS</td>\n",
       "      <td>rs_simulated_simd</td>\n",
       "      <td>CPP</td>\n",
       "      <td>CPU</td>\n",
       "      <td>fp64</td>\n",
       "      <td>10350481614395321474</td>\n",
       "      <td>3.142819e-12</td>\n",
       "      <td>2.221056e-09</td>\n",
       "      <td>0.000293</td>\n",
       "      <td>0.066152</td>\n",
       "      <td>0.066444</td>\n",
       "    </tr>\n",
       "  </tbody>\n",
       "</table>\n",
       "</div>"
      ],
      "text/plain": [
       "  algorithm               name backend device dtype                  seed  \\\n",
       "0        RS                 rs   NUMPY    CPU  fp64  10350481614395321474   \n",
       "1        RS      rs_no_complex   NUMPY    CPU  fp64  10350481614395321474   \n",
       "2        RS                 rs     JAX    CPU  fp64  10350481614395321474   \n",
       "3        RS      rs_no_complex     JAX    CPU  fp64  10350481614395321474   \n",
       "4        RS            rs_vmap     JAX    CPU  fp64  10350481614395321474   \n",
       "5        RS                 rs   TORCH    CPU  fp64  10350481614395321474   \n",
       "6        RS      rs_no_complex   TORCH    CPU  fp64  10350481614395321474   \n",
       "7        RS                 rs     CPP    CPU  fp64  10350481614395321474   \n",
       "8        RS            rs_simd     CPP    CPU  fp64  10350481614395321474   \n",
       "9        RS  rs_simulated_simd     CPP    CPU  fp64  10350481614395321474   \n",
       "\n",
       "        abs_err       rel_err  transfer_time  compute_time  total_time  \n",
       "0  0.000000e+00  0.000000e+00       0.000132      0.563160    0.563293  \n",
       "1  4.440892e-16  3.936921e-16       0.000179      0.450990    0.451169  \n",
       "2  3.167910e-12  1.714339e-09       0.000586      0.167671    0.168258  \n",
       "3  3.167910e-12  1.714339e-09       0.000894      0.336545    0.337439  \n",
       "4  3.013589e-12  2.272637e-09       0.000534      0.210408    0.210942  \n",
       "5  1.247891e-13  6.095896e-12       0.000176      1.943525    1.943701  \n",
       "6  5.417888e-14  6.095730e-12       0.000274      0.152222    0.152496  \n",
       "7  3.027800e-12  2.151268e-09       0.000261      0.023109    0.023370  \n",
       "8  5.399237e-12  4.612056e-10       0.000234      0.022460    0.022695  \n",
       "9  3.142819e-12  2.221056e-09       0.000293      0.066152    0.066444  "
      ]
     },
     "execution_count": 15,
     "metadata": {},
     "output_type": "execute_result"
    }
   ],
   "source": [
    "df.head(n=10)"
   ]
  },
  {
   "cell_type": "markdown",
   "id": "affd8b9a",
   "metadata": {},
   "source": [
    "### Aggregate information"
   ]
  },
  {
   "cell_type": "code",
   "execution_count": 16,
   "id": "96b19f2d",
   "metadata": {},
   "outputs": [],
   "source": [
    "def aggregate_df(df):\n",
    "    acc = []\n",
    "    for backend, local in df.groupby('backend'):\n",
    "        for name, local_local in local.groupby('name'):\n",
    "            acc.append((\n",
    "                backend,\n",
    "                name,\n",
    "                np.median(local_local['abs_err']),\n",
    "                np.median(local_local['rel_err']),\n",
    "                np.median(local_local['total_time']),\n",
    "            ))\n",
    "\n",
    "    return pd.DataFrame(\n",
    "        acc,\n",
    "        columns=[\n",
    "            'backend',\n",
    "            'name',\n",
    "            'median_abs_err',\n",
    "            'median_rel_err',\n",
    "            'median_total_time'\n",
    "        ]\n",
    "    )"
   ]
  },
  {
   "cell_type": "code",
   "execution_count": 17,
   "id": "952cee5c",
   "metadata": {},
   "outputs": [
    {
     "data": {
      "text/html": [
       "<div>\n",
       "<style scoped>\n",
       "    .dataframe tbody tr th:only-of-type {\n",
       "        vertical-align: middle;\n",
       "    }\n",
       "\n",
       "    .dataframe tbody tr th {\n",
       "        vertical-align: top;\n",
       "    }\n",
       "\n",
       "    .dataframe thead th {\n",
       "        text-align: right;\n",
       "    }\n",
       "</style>\n",
       "<table border=\"1\" class=\"dataframe\">\n",
       "  <thead>\n",
       "    <tr style=\"text-align: right;\">\n",
       "      <th></th>\n",
       "      <th>backend</th>\n",
       "      <th>name</th>\n",
       "      <th>median_abs_err</th>\n",
       "      <th>median_rel_err</th>\n",
       "      <th>median_total_time</th>\n",
       "    </tr>\n",
       "  </thead>\n",
       "  <tbody>\n",
       "    <tr>\n",
       "      <th>0</th>\n",
       "      <td>CPP</td>\n",
       "      <td>rs</td>\n",
       "      <td>2.401634e-12</td>\n",
       "      <td>6.133656e-10</td>\n",
       "      <td>0.025429</td>\n",
       "    </tr>\n",
       "    <tr>\n",
       "      <th>1</th>\n",
       "      <td>CPP</td>\n",
       "      <td>rs_simd</td>\n",
       "      <td>2.221306e-12</td>\n",
       "      <td>5.810007e-10</td>\n",
       "      <td>0.035222</td>\n",
       "    </tr>\n",
       "    <tr>\n",
       "      <th>2</th>\n",
       "      <td>CPP</td>\n",
       "      <td>rs_simulated_simd</td>\n",
       "      <td>2.370548e-12</td>\n",
       "      <td>6.334117e-10</td>\n",
       "      <td>0.104231</td>\n",
       "    </tr>\n",
       "    <tr>\n",
       "      <th>3</th>\n",
       "      <td>JAX</td>\n",
       "      <td>rs</td>\n",
       "      <td>2.256258e-12</td>\n",
       "      <td>5.630036e-10</td>\n",
       "      <td>0.121592</td>\n",
       "    </tr>\n",
       "    <tr>\n",
       "      <th>4</th>\n",
       "      <td>JAX</td>\n",
       "      <td>rs_no_complex</td>\n",
       "      <td>2.256258e-12</td>\n",
       "      <td>5.630036e-10</td>\n",
       "      <td>0.326838</td>\n",
       "    </tr>\n",
       "    <tr>\n",
       "      <th>5</th>\n",
       "      <td>JAX</td>\n",
       "      <td>rs_vmap</td>\n",
       "      <td>2.452580e-12</td>\n",
       "      <td>5.505753e-10</td>\n",
       "      <td>0.169506</td>\n",
       "    </tr>\n",
       "    <tr>\n",
       "      <th>6</th>\n",
       "      <td>NUMPY</td>\n",
       "      <td>rs</td>\n",
       "      <td>0.000000e+00</td>\n",
       "      <td>0.000000e+00</td>\n",
       "      <td>0.588221</td>\n",
       "    </tr>\n",
       "    <tr>\n",
       "      <th>7</th>\n",
       "      <td>NUMPY</td>\n",
       "      <td>rs_no_complex</td>\n",
       "      <td>4.440892e-16</td>\n",
       "      <td>3.985499e-16</td>\n",
       "      <td>0.505858</td>\n",
       "    </tr>\n",
       "    <tr>\n",
       "      <th>8</th>\n",
       "      <td>TORCH</td>\n",
       "      <td>rs</td>\n",
       "      <td>8.737455e-14</td>\n",
       "      <td>2.231903e-11</td>\n",
       "      <td>0.311854</td>\n",
       "    </tr>\n",
       "    <tr>\n",
       "      <th>9</th>\n",
       "      <td>TORCH</td>\n",
       "      <td>rs_no_complex</td>\n",
       "      <td>2.298162e-14</td>\n",
       "      <td>2.909457e-12</td>\n",
       "      <td>0.104499</td>\n",
       "    </tr>\n",
       "  </tbody>\n",
       "</table>\n",
       "</div>"
      ],
      "text/plain": [
       "  backend               name  median_abs_err  median_rel_err  \\\n",
       "0     CPP                 rs    2.401634e-12    6.133656e-10   \n",
       "1     CPP            rs_simd    2.221306e-12    5.810007e-10   \n",
       "2     CPP  rs_simulated_simd    2.370548e-12    6.334117e-10   \n",
       "3     JAX                 rs    2.256258e-12    5.630036e-10   \n",
       "4     JAX      rs_no_complex    2.256258e-12    5.630036e-10   \n",
       "5     JAX            rs_vmap    2.452580e-12    5.505753e-10   \n",
       "6   NUMPY                 rs    0.000000e+00    0.000000e+00   \n",
       "7   NUMPY      rs_no_complex    4.440892e-16    3.985499e-16   \n",
       "8   TORCH                 rs    8.737455e-14    2.231903e-11   \n",
       "9   TORCH      rs_no_complex    2.298162e-14    2.909457e-12   \n",
       "\n",
       "   median_total_time  \n",
       "0           0.025429  \n",
       "1           0.035222  \n",
       "2           0.104231  \n",
       "3           0.121592  \n",
       "4           0.326838  \n",
       "5           0.169506  \n",
       "6           0.588221  \n",
       "7           0.505858  \n",
       "8           0.311854  \n",
       "9           0.104499  "
      ]
     },
     "metadata": {},
     "output_type": "display_data"
    }
   ],
   "source": [
    "df_median = aggregate_df(df)\n",
    "display(df_median)"
   ]
  },
  {
   "cell_type": "markdown",
   "id": "81da77c9",
   "metadata": {},
   "source": [
    "### Error distribution\n",
    "Considering only CPU implementations:\n",
    "  * what is the distribution of the error, among the backends and the single implementations?\n",
    "  * are there any outliers in the error?\n",
    "  * what is the most precise implementation for each backend?"
   ]
  },
  {
   "cell_type": "code",
   "execution_count": 18,
   "id": "bdac361e",
   "metadata": {},
   "outputs": [],
   "source": [
    "def grouped_boxplot(grouped, column: str, ylabel: str, fn = (lambda x: x), ylim=None):\n",
    "    bar_width = 0.2\n",
    "    intra_gap = 0.05\n",
    "    group_gap = 0.6\n",
    "\n",
    "    fig, ax = plt.subplots()\n",
    "\n",
    "    offset = 0.0\n",
    "    x_positions = []\n",
    "    x_labels = []\n",
    "\n",
    "    for backend, local in grouped:\n",
    "        color = backend_color_map[backend]\n",
    "\n",
    "        for name in local['name'].unique():\n",
    "            ax.boxplot(\n",
    "                fn(local[column][local['name'] == name]),\n",
    "                positions=[offset],\n",
    "                widths=bar_width,\n",
    "                patch_artist=True,\n",
    "                boxprops=dict(facecolor=color, color='black'),\n",
    "                medianprops=dict(color=color)\n",
    "            )\n",
    "\n",
    "            x_positions.append(offset)\n",
    "            x_labels.append(name)\n",
    "            offset += bar_width + intra_gap\n",
    "\n",
    "        offset += group_gap\n",
    "\n",
    "        ax.bar(0, 0, color=color, label=backend)\n",
    "\n",
    "    ax.set_title(f'`{column}` distribution for each backend')\n",
    "    ax.set_xticks(x_positions)\n",
    "    ax.set_xticklabels(x_labels, rotation=65, ha='right')\n",
    "    ax.set_ylim(ylim)\n",
    "    ax.set_ylabel(ylabel)\n",
    "    ax.legend(title=\"Backend\")\n",
    "\n",
    "    plt.tight_layout()\n",
    "    plt.show()"
   ]
  },
  {
   "cell_type": "code",
   "execution_count": 19,
   "id": "6a7ab924",
   "metadata": {},
   "outputs": [
    {
     "data": {
      "image/png": "[encoded data removed]",
      "text/plain": [
       "<Figure size 640x480 with 1 Axes>"
      ]
     },
     "metadata": {},
     "output_type": "display_data"
    }
   ],
   "source": [
    "grouped_by_backend_without_numpy = df[\n",
    "    (df['backend'] != 'NUMPY') &\n",
    "    (df['device'] == 'CPU')\n",
    "].groupby('backend')\n",
    "\n",
    "grouped_boxplot(\n",
    "    grouped_by_backend_without_numpy,\n",
    "    column = 'abs_err',\n",
    "    ylabel = '$log_{10}(err)$',\n",
    "    ylim=(-16.0,-8.0),\n",
    "    fn=np.log10\n",
    ")"
   ]
  },
  {
   "cell_type": "code",
   "execution_count": 20,
   "id": "f93cb3c3",
   "metadata": {},
   "outputs": [
    {
     "data": {
      "image/png": "[encoded data removed]",
      "text/plain": [
       "<Figure size 640x480 with 1 Axes>"
      ]
     },
     "metadata": {},
     "output_type": "display_data"
    }
   ],
   "source": [
    "grouped_boxplot(\n",
    "    grouped_by_backend_without_numpy,\n",
    "    column = 'rel_err',\n",
    "    ylabel = '$log_{10}(err)$',\n",
    "    ylim=(-13.0,-6.0),\n",
    "    fn=np.log10\n",
    ")"
   ]
  },
  {
   "cell_type": "markdown",
   "id": "93152686",
   "metadata": {},
   "source": [
    "The numpy implementation was the reference in this experiment, so it's normal that its absolute error is the lowest. The other implementations could have introduced errors by:\n",
    "  * calling lower precision variants of trigonometric functions\n",
    "  * implementing a different reduction strategy for the plus operator\n",
    "\n",
    "The phase is uniformely distributed in $[0, 2 \\pi]$ so this kind of errors don't scare me. This is primarely a test for buggy implementations and fortunately there are no outliers here."
   ]
  },
  {
   "cell_type": "markdown",
   "id": "b281b34f",
   "metadata": {},
   "source": [
    "### Performance\n",
    "The data campaign doesn't specifically test for performance as it will be very wasteful to profile a known bad implementation. From this data we can screen for the best implementation in each category, then we can inform more accurate test pipelines.\n",
    "\n",
    "We can reuse the same grouped comparison plots for the runtime plots. Speedup plots are required."
   ]
  },
  {
   "cell_type": "code",
   "execution_count": 21,
   "id": "40311c6d",
   "metadata": {},
   "outputs": [],
   "source": [
    "local = df[\n",
    "    (df['algorithm'] == 'RS') &\n",
    "    (df['device'] == 'CPU') &\n",
    "    (df['dtype'] == 'fp64')\n",
    "]"
   ]
  },
  {
   "cell_type": "code",
   "execution_count": 22,
   "id": "cfc04c57",
   "metadata": {},
   "outputs": [],
   "source": [
    "grouped_by_backend = local.groupby('backend')"
   ]
  },
  {
   "cell_type": "code",
   "execution_count": 23,
   "id": "a44c45f3",
   "metadata": {},
   "outputs": [
    {
     "data": {
      "image/png": "[encoded data removed]",
      "text/plain": [
       "<Figure size 640x480 with 1 Axes>"
      ]
     },
     "metadata": {},
     "output_type": "display_data"
    }
   ],
   "source": [
    "grouped_boxplot(\n",
    "    grouped_by_backend,\n",
    "    column = 'total_time',\n",
    "    ylabel = 'runtime (s)',\n",
    "    ylim = (0.0, 0.8),\n",
    ")"
   ]
  },
  {
   "cell_type": "markdown",
   "id": "11765a2a",
   "metadata": {},
   "source": [
    "The big variability in the torch version of `rs` is due to:\n",
    "  * JIT compilation\n",
    "  * torch non fully supporting complex numbers operations\n",
    "\n",
    "This has been tested across 4 different consumer hardwares and my C++ implementations consistently beat the pytorch one by at least a factor of 2. We suspect the torch compiled version doesn't fully use vectorized instructions."
   ]
  },
  {
   "cell_type": "code",
   "execution_count": 24,
   "id": "81b9d05d",
   "metadata": {},
   "outputs": [
    {
     "data": {
      "text/html": [
       "<div>\n",
       "<style scoped>\n",
       "    .dataframe tbody tr th:only-of-type {\n",
       "        vertical-align: middle;\n",
       "    }\n",
       "\n",
       "    .dataframe tbody tr th {\n",
       "        vertical-align: top;\n",
       "    }\n",
       "\n",
       "    .dataframe thead th {\n",
       "        text-align: right;\n",
       "    }\n",
       "</style>\n",
       "<table border=\"1\" class=\"dataframe\">\n",
       "  <thead>\n",
       "    <tr style=\"text-align: right;\">\n",
       "      <th></th>\n",
       "      <th>backend</th>\n",
       "      <th>name</th>\n",
       "      <th>median_abs_err</th>\n",
       "      <th>median_rel_err</th>\n",
       "      <th>median_total_time</th>\n",
       "    </tr>\n",
       "  </thead>\n",
       "  <tbody>\n",
       "    <tr>\n",
       "      <th>0</th>\n",
       "      <td>CPP</td>\n",
       "      <td>rs</td>\n",
       "      <td>2.401634e-12</td>\n",
       "      <td>6.133656e-10</td>\n",
       "      <td>0.025429</td>\n",
       "    </tr>\n",
       "    <tr>\n",
       "      <th>3</th>\n",
       "      <td>JAX</td>\n",
       "      <td>rs</td>\n",
       "      <td>2.256258e-12</td>\n",
       "      <td>5.630036e-10</td>\n",
       "      <td>0.121592</td>\n",
       "    </tr>\n",
       "    <tr>\n",
       "      <th>7</th>\n",
       "      <td>NUMPY</td>\n",
       "      <td>rs_no_complex</td>\n",
       "      <td>4.440892e-16</td>\n",
       "      <td>3.985499e-16</td>\n",
       "      <td>0.505858</td>\n",
       "    </tr>\n",
       "    <tr>\n",
       "      <th>9</th>\n",
       "      <td>TORCH</td>\n",
       "      <td>rs_no_complex</td>\n",
       "      <td>2.298162e-14</td>\n",
       "      <td>2.909457e-12</td>\n",
       "      <td>0.104499</td>\n",
       "    </tr>\n",
       "  </tbody>\n",
       "</table>\n",
       "</div>"
      ],
      "text/plain": [
       "  backend           name  median_abs_err  median_rel_err  median_total_time\n",
       "0     CPP             rs    2.401634e-12    6.133656e-10           0.025429\n",
       "3     JAX             rs    2.256258e-12    5.630036e-10           0.121592\n",
       "7   NUMPY  rs_no_complex    4.440892e-16    3.985499e-16           0.505858\n",
       "9   TORCH  rs_no_complex    2.298162e-14    2.909457e-12           0.104499"
      ]
     },
     "metadata": {},
     "output_type": "display_data"
    }
   ],
   "source": [
    "df_cpu_aggregate = aggregate_df(local)\n",
    "best_runtime_per_backend = df_cpu_aggregate.loc[df_median.groupby('backend')['median_total_time'].idxmin()]\n",
    "display(best_runtime_per_backend)"
   ]
  },
  {
   "cell_type": "code",
   "execution_count": 25,
   "id": "3259c943",
   "metadata": {},
   "outputs": [],
   "source": [
    "def plot_speedup_to_x(aggregate, x: str):\n",
    "    baseline = aggregate.loc[aggregate['backend'] == x]['median_total_time'].to_numpy()\n",
    "    speedup_to_x = baseline / aggregate['median_total_time'].to_numpy()\n",
    "\n",
    "    fig, ax = plt.subplots()\n",
    "\n",
    "    bars = ax.bar(\n",
    "        aggregate['backend'],\n",
    "        speedup_to_x,\n",
    "        color=[\n",
    "            backend_color_map[b]\n",
    "            for b in aggregate['backend']\n",
    "        ],\n",
    "    )\n",
    "\n",
    "    ax.set_title(f\"Speedup to {x} ({csv_filename})\")\n",
    "    ax.set_ylabel('speedup')\n",
    "\n",
    "    ax.bar_label(\n",
    "        bars,\n",
    "        labels=[f\"{v:.1f}x\" for v in speedup_to_x],\n",
    "        padding=1\n",
    "    )\n",
    "\n",
    "    plt.show()"
   ]
  },
  {
   "cell_type": "code",
   "execution_count": 26,
   "id": "69b10cfa",
   "metadata": {},
   "outputs": [
    {
     "data": {
      "image/png": "[encoded data removed]",
      "text/plain": [
       "<Figure size 640x480 with 1 Axes>"
      ]
     },
     "metadata": {},
     "output_type": "display_data"
    }
   ],
   "source": [
    "plot_speedup_to_x(best_runtime_per_backend, 'NUMPY')"
   ]
  },
  {
   "cell_type": "code",
   "execution_count": 27,
   "id": "fdd856ce",
   "metadata": {},
   "outputs": [
    {
     "data": {
      "image/png": "[encoded data removed]",
      "text/plain": [
       "<Figure size 640x480 with 1 Axes>"
      ]
     },
     "metadata": {},
     "output_type": "display_data"
    }
   ],
   "source": [
    "plot_speedup_to_x(best_runtime_per_backend, 'TORCH')"
   ]
  }
 ],
 "metadata": {
  "kernelspec": {
   "display_name": "venv",
   "language": "python",
   "name": "python3"
  },
  "language_info": {
   "codemirror_mode": {
    "name": "ipython",
    "version": 3
   },
   "file_extension": ".py",
   "mimetype": "text/x-python",
   "name": "python",
   "nbconvert_exporter": "python",
   "pygments_lexer": "ipython3",
   "version": "3.12.3"
  }
 },
 "nbformat": 4,
 "nbformat_minor": 5
}
