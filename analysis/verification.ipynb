{
 "cells": [
  {
   "cell_type": "markdown",
   "id": "1626d506",
   "metadata": {},
   "source": [
    "# Verification results notebook\n",
    "This notebook is meant to perform some statistical analysis on the csv reports from the `verification.py` script. Performing the data analysis on a separate notebook allows me to:\n",
    "  * decouple data creation from analysis\n",
    "  * having a persistent storage for plots"
   ]
  },
  {
   "cell_type": "code",
   "execution_count": 1,
   "id": "80102e4b",
   "metadata": {},
   "outputs": [],
   "source": [
    "import numpy as np\n",
    "import pandas as pd\n",
    "import matplotlib.pyplot as plt\n",
    "\n",
    "df = pd.read_csv('../out.csv')"
   ]
  },
  {
   "cell_type": "code",
   "execution_count": 2,
   "id": "2904d1e4",
   "metadata": {},
   "outputs": [
    {
     "data": {
      "text/html": [
       "<div>\n",
       "<style scoped>\n",
       "    .dataframe tbody tr th:only-of-type {\n",
       "        vertical-align: middle;\n",
       "    }\n",
       "\n",
       "    .dataframe tbody tr th {\n",
       "        vertical-align: top;\n",
       "    }\n",
       "\n",
       "    .dataframe thead th {\n",
       "        text-align: right;\n",
       "    }\n",
       "</style>\n",
       "<table border=\"1\" class=\"dataframe\">\n",
       "  <thead>\n",
       "    <tr style=\"text-align: right;\">\n",
       "      <th></th>\n",
       "      <th>algorithm</th>\n",
       "      <th>name</th>\n",
       "      <th>backend</th>\n",
       "      <th>device</th>\n",
       "      <th>dtype</th>\n",
       "      <th>key</th>\n",
       "      <th>abs_err</th>\n",
       "      <th>total_time</th>\n",
       "    </tr>\n",
       "  </thead>\n",
       "  <tbody>\n",
       "    <tr>\n",
       "      <th>0</th>\n",
       "      <td>RS</td>\n",
       "      <td>rs</td>\n",
       "      <td>NUMPY</td>\n",
       "      <td>CPU</td>\n",
       "      <td>fp64</td>\n",
       "      <td>7871734211187709741</td>\n",
       "      <td>0.000000e+00</td>\n",
       "      <td>0.466063</td>\n",
       "    </tr>\n",
       "    <tr>\n",
       "      <th>1</th>\n",
       "      <td>RS</td>\n",
       "      <td>rs_no_complex</td>\n",
       "      <td>NUMPY</td>\n",
       "      <td>CPU</td>\n",
       "      <td>fp64</td>\n",
       "      <td>7871734211187709741</td>\n",
       "      <td>4.440892e-16</td>\n",
       "      <td>0.403272</td>\n",
       "    </tr>\n",
       "    <tr>\n",
       "      <th>2</th>\n",
       "      <td>RS</td>\n",
       "      <td>rs</td>\n",
       "      <td>JAX</td>\n",
       "      <td>CPU</td>\n",
       "      <td>fp64</td>\n",
       "      <td>7871734211187709741</td>\n",
       "      <td>2.269629e-12</td>\n",
       "      <td>0.224953</td>\n",
       "    </tr>\n",
       "    <tr>\n",
       "      <th>3</th>\n",
       "      <td>RS</td>\n",
       "      <td>rs_no_complex</td>\n",
       "      <td>JAX</td>\n",
       "      <td>CPU</td>\n",
       "      <td>fp64</td>\n",
       "      <td>7871734211187709741</td>\n",
       "      <td>2.269629e-12</td>\n",
       "      <td>0.290229</td>\n",
       "    </tr>\n",
       "    <tr>\n",
       "      <th>4</th>\n",
       "      <td>RS</td>\n",
       "      <td>rs_vmap</td>\n",
       "      <td>JAX</td>\n",
       "      <td>CPU</td>\n",
       "      <td>fp64</td>\n",
       "      <td>7871734211187709741</td>\n",
       "      <td>2.393419e-12</td>\n",
       "      <td>0.204246</td>\n",
       "    </tr>\n",
       "  </tbody>\n",
       "</table>\n",
       "</div>"
      ],
      "text/plain": [
       "  algorithm           name backend device dtype                  key  \\\n",
       "0        RS             rs   NUMPY    CPU  fp64  7871734211187709741   \n",
       "1        RS  rs_no_complex   NUMPY    CPU  fp64  7871734211187709741   \n",
       "2        RS             rs     JAX    CPU  fp64  7871734211187709741   \n",
       "3        RS  rs_no_complex     JAX    CPU  fp64  7871734211187709741   \n",
       "4        RS        rs_vmap     JAX    CPU  fp64  7871734211187709741   \n",
       "\n",
       "        abs_err  total_time  \n",
       "0  0.000000e+00    0.466063  \n",
       "1  4.440892e-16    0.403272  \n",
       "2  2.269629e-12    0.224953  \n",
       "3  2.269629e-12    0.290229  \n",
       "4  2.393419e-12    0.204246  "
      ]
     },
     "execution_count": 2,
     "metadata": {},
     "output_type": "execute_result"
    }
   ],
   "source": [
    "# preprocessing function, temporary\n",
    "def remove_prefix(s: str):\n",
    "    return s.split('.')[-1]\n",
    "\n",
    "for column_name in ['algorithm', 'backend', 'device', 'dtype']:\n",
    "    df[column_name] = df[column_name].apply(remove_prefix)\n",
    "\n",
    "df.head()"
   ]
  },
  {
   "cell_type": "markdown",
   "id": "81da77c9",
   "metadata": {},
   "source": [
    "## CPU section\n",
    "We consider only CPU implementations. There are many questions to be asked:\n",
    "  * what is the distribution of the error, among the backends and among the single implementations?\n",
    "  * are there any outliers in the error?\n",
    "  * what is the fastest implementation for every backend?\n",
    "  * can you plot the absolute and relative performance of all the implementations?"
   ]
  },
  {
   "cell_type": "markdown",
   "id": "75a7aeac",
   "metadata": {},
   "source": [
    "### Errors"
   ]
  },
  {
   "cell_type": "code",
   "execution_count": 3,
   "id": "1c82b7b1",
   "metadata": {},
   "outputs": [],
   "source": [
    "local = df[\n",
    "    (df['device'] == 'CPU') &\n",
    "    (df['abs_err'] > 0) &\n",
    "    (df['dtype'] == 'fp64')\n",
    "]\n",
    "\n",
    "backend_error_map = {\n",
    "    backend: group['abs_err'].to_numpy()\n",
    "    for backend, group in local.groupby('backend')\n",
    "}\n",
    "\n",
    "for backend, error in backend_error_map.items():\n",
    "    assert(error.size > 0)"
   ]
  },
  {
   "cell_type": "code",
   "execution_count": 4,
   "id": "c2f17e9a",
   "metadata": {},
   "outputs": [
    {
     "data": {
      "image/png": "[encoded data removed]",
      "text/plain": [
       "<Figure size 640x480 with 1 Axes>"
      ]
     },
     "metadata": {},
     "output_type": "display_data"
    }
   ],
   "source": [
    "backend_color_map = {\n",
    "    'NUMPY': '#568df5',\n",
    "    'JAX': '#52fa85',\n",
    "    'TORCH': '#fa6b52',\n",
    "    'CPP': '#2617ff'\n",
    "}\n",
    "\n",
    "fig, ax = plt.subplots()\n",
    "ax.set_ylabel('$log_{10}(err)$')\n",
    "\n",
    "bplot = ax.boxplot(\n",
    "    [np.log10(err) for err in backend_error_map.values()],\n",
    "    patch_artist=True,\n",
    "    labels=backend_error_map.keys()\n",
    ")\n",
    "\n",
    "for patch, color in zip(bplot['boxes'], backend_color_map.values()):\n",
    "    patch.set_facecolor(color)\n",
    "\n",
    "plt.show()"
   ]
  },
  {
   "cell_type": "markdown",
   "id": "93152686",
   "metadata": {},
   "source": [
    "The numpy implementation was the reference in this experiment, so it's normal that its absolute error is the lowest. The other implementations could have introduced errors by:\n",
    "  * calling lower precision variants of trigonometric functions\n",
    "  * implementing a different reduction strategy for the plus operator\n",
    "\n",
    "The phase is uniformely distributed in $[0, 2 \\pi]$ so this kind of errors don't scare me. This is primarely a test for buggy implementations."
   ]
  },
  {
   "cell_type": "code",
   "execution_count": 5,
   "id": "d84871c9",
   "metadata": {},
   "outputs": [
    {
     "name": "stdout",
     "output_type": "stream",
     "text": [
      "Validation complete\n"
     ]
    }
   ],
   "source": [
    "# test for faulty implementations we need to be extremely precise about the:\n",
    "#   * name of the implementation\n",
    "#   * backend\n",
    "#   * seed of the faulty experiment\n",
    "#\n",
    "# since I'm not expecting this section to be very much used, I'll just print the faulty rows\n",
    "faulty_impls_data = df[df['abs_err'] > 1e-9]\n",
    "\n",
    "if len(faulty_impls_data) > 0:\n",
    "    print('Validation error: there are experiments with an high absolute error')\n",
    "    faulty_impls_data.head()\n",
    "    raise RuntimeError\n",
    "else:\n",
    "    print('Validation complete')\n"
   ]
  },
  {
   "cell_type": "markdown",
   "id": "b281b34f",
   "metadata": {},
   "source": [
    "### Performance\n",
    "The data campaign doesn't specifically test for performance as it will be very wasteful to profile a known bad implementation. From this data we can screen for the best implementation in each category, then we can inform more accurate test pipelines."
   ]
  },
  {
   "cell_type": "code",
   "execution_count": 6,
   "id": "40311c6d",
   "metadata": {},
   "outputs": [],
   "source": [
    "local = df[\n",
    "    (df['algorithm'] == 'RS') &\n",
    "    (df['device'] == 'CPU') &\n",
    "    (df['dtype'] == 'fp64')\n",
    "]"
   ]
  },
  {
   "cell_type": "code",
   "execution_count": 7,
   "id": "75046374",
   "metadata": {},
   "outputs": [],
   "source": [
    "# I need a dictionary that pairs (backend, name) as keys\n",
    "# this is because there are implementations in different backends\n",
    "# with the same name\n",
    "#\n",
    "# I could do a dictionary of dictionaries because I don't really need\n",
    "# to index by name, I need to index by backend first and then by name\n",
    "backend_nested_map = {}\n",
    "\n",
    "for backend, _df in local.groupby('backend'):\n",
    "    backend_nested_map[backend] = {}\n",
    "\n",
    "    for name, _ddf in _df.groupby('name'):\n",
    "        backend_nested_map[backend][name] = _ddf['total_time'].to_numpy()"
   ]
  },
  {
   "cell_type": "code",
   "execution_count": 8,
   "id": "a11086b0",
   "metadata": {},
   "outputs": [
    {
     "data": {
      "image/png": "[encoded data removed]",
      "text/plain": [
       "<Figure size 640x480 with 1 Axes>"
      ]
     },
     "metadata": {},
     "output_type": "display_data"
    }
   ],
   "source": [
    "fix, ax = plt.subplots()\n",
    "\n",
    "# plotting parameters, for decoration\n",
    "bar_width = 0.2\n",
    "intra_gap = 0.05\n",
    "group_gap = 0.6\n",
    "\n",
    "offset = 0.0\n",
    "x_positions = []\n",
    "x_labels = []\n",
    "\n",
    "for backend, nested_map in backend_nested_map.items():\n",
    "    for name, t in nested_map.items():\n",
    "        mean = np.mean(t)\n",
    "        std = np.std(t)\n",
    "\n",
    "        ax.bar(\n",
    "            offset,\n",
    "            mean,\n",
    "            bar_width,\n",
    "            yerr=std,\n",
    "            color=backend_color_map[backend],\n",
    "            capsize=4,\n",
    "            label=backend\n",
    "        )\n",
    "\n",
    "        x_positions.append(offset)\n",
    "        x_labels.append(name)\n",
    "        offset += bar_width + intra_gap\n",
    "\n",
    "    offset += group_gap\n",
    "\n",
    "ax.set_xticks(x_positions)\n",
    "ax.set_xticklabels(x_labels, rotation=45, ha=\"right\")\n",
    "\n",
    "ax.set_ylabel(\"Runtime (s)\")\n",
    "handles, labels = ax.get_legend_handles_labels()\n",
    "by_label = dict(zip(labels, handles))\n",
    "ax.legend(by_label.values(), by_label.keys(), title=\"Backend\")\n",
    "\n",
    "plt.tight_layout()\n",
    "plt.show()"
   ]
  },
  {
   "cell_type": "markdown",
   "id": "11765a2a",
   "metadata": {},
   "source": [
    "The big variability in the torch version of `rs` is due to:\n",
    "  * JIT compilation\n",
    "  * torch non fully supporting complex numbers operations\n",
    "\n",
    "I think that JAX implementations could still be improved by properly setting up multicore execution."
   ]
  }
 ],
 "metadata": {
  "kernelspec": {
   "display_name": "Python 3",
   "language": "python",
   "name": "python3"
  },
  "language_info": {
   "codemirror_mode": {
    "name": "ipython",
    "version": 3
   },
   "file_extension": ".py",
   "mimetype": "text/x-python",
   "name": "python",
   "nbconvert_exporter": "python",
   "pygments_lexer": "ipython3",
   "version": "3.12.3"
  }
 },
 "nbformat": 4,
 "nbformat_minor": 5
}
