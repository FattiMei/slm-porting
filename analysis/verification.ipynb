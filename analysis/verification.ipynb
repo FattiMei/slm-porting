{
 "cells": [
  {
   "cell_type": "markdown",
   "id": "1626d506",
   "metadata": {},
   "source": [
    "# Verification results notebook\n",
    "This notebook can optionally run a batch of tests in which all the selected implementations across backends and possibly devices are compared against a reference implementation on a distribution of initial conditions.\n",
    "\n",
    "I decided to include the test runs inside the notebook. This way I can:\n",
    "  * control the experiments from a single source of truth\n",
    "  * put in the same file the generation of the dataset and its processing (although the generation could be \"cached\")\n",
    "  * possibly connect with remote devices (with Jupyter remote server) and collect interesting data"
   ]
  },
  {
   "cell_type": "code",
   "execution_count": 1,
   "id": "80102e4b",
   "metadata": {},
   "outputs": [],
   "source": [
    "import numpy as np\n",
    "import pandas as pd\n",
    "import matplotlib.pyplot as plt"
   ]
  },
  {
   "cell_type": "code",
   "execution_count": 2,
   "id": "d098497e",
   "metadata": {},
   "outputs": [],
   "source": [
    "# these are the columns of the dataset we will study\n",
    "COLUMNS = [\n",
    "    'algorithm',\n",
    "    'name',\n",
    "    'backend',\n",
    "    'device',\n",
    "    'dtype',\n",
    "    'seed',\n",
    "    'abs_err',\n",
    "    'rel_err',\n",
    "    'transfer_time',\n",
    "    'compute_time',\n",
    "]"
   ]
  },
  {
   "cell_type": "markdown",
   "id": "bd3bf35a",
   "metadata": {},
   "source": [
    "## Test runner implementation"
   ]
  },
  {
   "cell_type": "code",
   "execution_count": 3,
   "id": "1a9928e2",
   "metadata": {},
   "outputs": [],
   "source": [
    "import jax\n",
    "import jax.numpy as jnp\n",
    "jax.config.update('jax_enable_x64', True)\n",
    "import numpy as np\n",
    "\n",
    "from slmporting.core.slm import SLM\n",
    "from slmporting.core.array import Array\n",
    "from slmporting.core.types import Algorithm, Backend, Device, DType"
   ]
  },
  {
   "cell_type": "code",
   "execution_count": 4,
   "id": "4fa83b96",
   "metadata": {},
   "outputs": [],
   "source": [
    "# functions to manage the rng state, the user initializes the rng from an integer\n",
    "# these functions must be exported because other experiments share the same functionality\n",
    "def key_to_int(key):\n",
    "    \"\"\"Combine two uint32 values into a single 64-bit integer seed.\"\"\"\n",
    "    return int(key[0]) << 32 | int(key[1])\n",
    "\n",
    "\n",
    "def int_to_key(seed):\n",
    "    \"\"\"Recreate the PRNGKey from the integer seed.\"\"\"\n",
    "    upper = (seed >> 32) & 0xFFFFFFFF\n",
    "    lower = seed & 0xFFFFFFFF\n",
    "    return jnp.array([upper, lower], dtype=jnp.uint32)\n",
    "\n",
    "\n",
    "def generate_input_data(key, n: int):\n",
    "    key, subkey = jax.random.split(key)\n",
    "    subkeys = jax.random.split(subkey, 4)\n",
    "\n",
    "    x     = Array(jax.random.uniform(subkeys[0], n, minval=-50.0, maxval=50.0))\n",
    "    y     = Array(jax.random.uniform(subkeys[1], n, minval=-50.0, maxval=50.0))\n",
    "    z     = Array(jax.random.uniform(subkeys[2], n, minval=-5.0 , maxval=5.0))\n",
    "    pists = Array(jax.random.uniform(subkeys[3], n, minval=0.0  , maxval=1.0))\n",
    "\n",
    "    return (key, subkey), (x, y, z, pists)"
   ]
  },
  {
   "cell_type": "code",
   "execution_count": 5,
   "id": "9ad5fba8",
   "metadata": {},
   "outputs": [],
   "source": [
    "import itertools\n",
    "import slmporting.impl.impl_numpy\n",
    "import slmporting.impl.impl_jax\n",
    "import slmporting.impl.impl_torch\n",
    "import slmporting.impl.impl_cpp\n",
    "\n",
    "# function for filtering the implementations based on\n",
    "#   * requested backends\n",
    "#   * requested devices\n",
    "def filter_implementations(\n",
    "        requested_algorithm: list,\n",
    "        requested_backends: list):\n",
    "\n",
    "    def filter_fcn(impl):\n",
    "        return (impl.backend in requested_backends) and \\\n",
    "               (impl.algorithm in requested_algorithm)\n",
    "\n",
    "    all_implementations = itertools.chain(\n",
    "        slmporting.impl.impl_numpy.IMPLS,\n",
    "        slmporting.impl.impl_jax.IMPLS,\n",
    "        slmporting.impl.impl_torch.IMPLS,\n",
    "        slmporting.impl.impl_cpp.IMPLS,\n",
    "    )\n",
    "\n",
    "    return list(filter(filter_fcn, all_implementations))"
   ]
  },
  {
   "cell_type": "code",
   "execution_count": 6,
   "id": "fc40a4c5",
   "metadata": {},
   "outputs": [],
   "source": [
    "# we are dealing with a number that lives in [0, 2π]\n",
    "# and wraps, so 2π-ε and ε are quite close\n",
    "def abs_error_function(x, y):\n",
    "    return np.max(np.abs(x-y))\n",
    "\n",
    "def rel_error_function(x, y):\n",
    "    return np.max(np.abs((x-y)/x))"
   ]
  },
  {
   "cell_type": "code",
   "execution_count": 7,
   "id": "ec4d0abc",
   "metadata": {},
   "outputs": [],
   "source": [
    "from tqdm.notebook import tqdm\n",
    "\n",
    "# this test is made only for CPU devices,\n",
    "# but it should be extended for GPU use\n",
    "def run_test_batch(\n",
    "    seed: int,\n",
    "    nruns: int,\n",
    "    requested_backends = [\n",
    "        Backend.NUMPY,\n",
    "        Backend.JAX,\n",
    "        Backend.TORCH,\n",
    "        Backend.CPP,\n",
    "    ],\n",
    "    nspots: int = 100) -> pd.DataFrame:\n",
    "\n",
    "    key = int_to_key(seed)\n",
    "    slm = SLM.get_standard_slm()\n",
    "\n",
    "    algorithm = Algorithm.RS\n",
    "    matching_implementations = [\n",
    "        impl()\n",
    "        for impl in filter_implementations(\n",
    "            [algorithm],\n",
    "            requested_backends,\n",
    "        )\n",
    "    ]\n",
    "    assert(len(matching_implementations) > 0)\n",
    "\n",
    "    # the structure where I push the experiment data,\n",
    "    # to be later transformed into a pandas dataframe\n",
    "    acc = []\n",
    "\n",
    "    for run_idx in tqdm(range(nruns)):\n",
    "        (key, subkey), (x, y, z, pists) = generate_input_data(key, nspots)\n",
    "\n",
    "        reference_impl = matching_implementations[0]\n",
    "        reference_phase, _ = reference_impl(x, y, z, pists, slm)\n",
    "\n",
    "        for impl in matching_implementations:\n",
    "            assert(impl.algorithm == algorithm)\n",
    "            alternative_phase, times = impl(x, y, z, pists, slm)\n",
    "\n",
    "            total_time = times.transfer_time + times.compute_time\n",
    "\n",
    "            acc.append((\n",
    "                algorithm,\n",
    "                impl.name,\n",
    "                impl.backend,\n",
    "                Device.CPU,\n",
    "                DType.fp64,\n",
    "                key_to_int(key),\n",
    "                abs_error_function(reference_phase, alternative_phase),\n",
    "                rel_error_function(reference_phase, alternative_phase),\n",
    "                times.transfer_time,\n",
    "                times.compute_time\n",
    "            ))\n",
    "\n",
    "    return pd.DataFrame(acc, columns=COLUMNS)"
   ]
  },
  {
   "cell_type": "markdown",
   "id": "fbcbdb43",
   "metadata": {},
   "source": [
    "## Optional test execution"
   ]
  },
  {
   "cell_type": "markdown",
   "id": "c99a1dc5",
   "metadata": {},
   "source": [
    "This notebook is meant to be executed on:\n",
    "  * my working laptop\n",
    "  * a google colab environment\n",
    "  * my computing cluster\n",
    "\n",
    "I propose the use of environment variables that override the notebook execution parameters. This way I can remotely execute a complete notebook without any manual intervention. This is a snippet for starting an asynchronous jupyter notebook:\n",
    "\n",
    "```bash\n",
    "nohup jupyter nbconvert --to notebook --execute verification.ipynb --output result.ipynb > notebook.log 2>&1 &\n",
    "```"
   ]
  },
  {
   "cell_type": "code",
   "execution_count": 8,
   "id": "c6eec10f",
   "metadata": {},
   "outputs": [],
   "source": [
    "import os\n",
    "\n",
    "def get_notebook_execution_parameters(\n",
    "    csv_filename: str,\n",
    "    seed: int,\n",
    "    nruns: int,\n",
    "):\n",
    "    csv_filename = os.environ.get('SLM_OUTPUT_CSV') or csv_filename\n",
    "    seed = os.environ.get('SLM_SEED') or seed\n",
    "    nruns = os.environ.get('SLM_NRUNS') or nruns\n",
    "\n",
    "    return csv_filename, seed, nruns"
   ]
  },
  {
   "cell_type": "code",
   "execution_count": 9,
   "id": "b2b5af78",
   "metadata": {},
   "outputs": [],
   "source": [
    "csv_filename, seed, nruns = get_notebook_execution_parameters(\n",
    "    csv_filename='results/hp_laptop.csv',\n",
    "    seed=99,\n",
    "    nruns=100\n",
    ")"
   ]
  },
  {
   "cell_type": "code",
   "execution_count": 10,
   "id": "a47ff5fa",
   "metadata": {},
   "outputs": [
    {
     "name": "stderr",
     "output_type": "stream",
     "text": [
      "/home/matteo/github/slm-porting/venv/lib/python3.12/site-packages/torch/functional.py:505: UserWarning: torch.meshgrid: in an upcoming release, it will be required to pass the indexing argument. (Triggered internally at /pytorch/aten/src/ATen/native/TensorShape.cpp:4317.)\n",
      "  return _VF.meshgrid(tensors, **kwargs)  # type: ignore[attr-defined]\n"
     ]
    },
    {
     "data": {
      "application/vnd.jupyter.widget-view+json": {
       "model_id": "9fc7cc94a1d4494a8ad3995973e7f6b0",
       "version_major": 2,
       "version_minor": 0
      },
      "text/plain": [
       "  0%|          | 0/100 [00:00<?, ?it/s]"
      ]
     },
     "metadata": {},
     "output_type": "display_data"
    },
    {
     "name": "stderr",
     "output_type": "stream",
     "text": [
      "/home/matteo/github/slm-porting/venv/lib/python3.12/site-packages/torch/cuda/__init__.py:827: UserWarning: Can't initialize NVML\n",
      "  warnings.warn(\"Can't initialize NVML\")\n",
      "W1028 10:22:23.973000 13334 torch/utils/cpp_extension.py:117] [0/0] No CUDA runtime is found, using CUDA_HOME='/usr'\n"
     ]
    }
   ],
   "source": [
    "try:\n",
    "    df = pd.read_csv(csv_filename)\n",
    "except FileNotFoundError:\n",
    "    df = run_test_batch(seed, nruns)\n",
    "    df.to_csv(csv_filename, index=False)"
   ]
  },
  {
   "cell_type": "markdown",
   "id": "3ea8fdec",
   "metadata": {},
   "source": [
    "## Data analysis"
   ]
  },
  {
   "cell_type": "markdown",
   "id": "515f8814",
   "metadata": {},
   "source": [
    "### Preprocessing"
   ]
  },
  {
   "cell_type": "code",
   "execution_count": 11,
   "id": "2904d1e4",
   "metadata": {},
   "outputs": [],
   "source": [
    "df['total_time'] = df['transfer_time'] + df['compute_time']"
   ]
  },
  {
   "cell_type": "code",
   "execution_count": 12,
   "id": "cb955a15",
   "metadata": {},
   "outputs": [],
   "source": [
    "# those columns are enums, not strings. I convert them into strings\n",
    "# so that the further processing follows a more traditional workflow\n",
    "for column_name in ['algorithm', 'backend', 'device', 'dtype']:\n",
    "    df[column_name] = df[column_name].apply(\n",
    "        lambda a: str(a).split('.')[-1]\n",
    "    )"
   ]
  },
  {
   "cell_type": "code",
   "execution_count": 13,
   "id": "3c6375a5",
   "metadata": {},
   "outputs": [],
   "source": [
    "# In the following analyses I need to group the data by backend\n",
    "# and then by implementation name.\n",
    "grouped_by_backend = df.groupby('backend')"
   ]
  },
  {
   "cell_type": "code",
   "execution_count": 14,
   "id": "32ae4e96",
   "metadata": {},
   "outputs": [],
   "source": [
    "backend_color_map = {\n",
    "    'NUMPY': '#568df5',\n",
    "    'JAX': '#52fa85',\n",
    "    'TORCH': '#fa6b52',\n",
    "    'CPP': '#2617ff'\n",
    "}"
   ]
  },
  {
   "cell_type": "code",
   "execution_count": 15,
   "id": "1d8799ef",
   "metadata": {},
   "outputs": [
    {
     "data": {
      "text/html": [
       "<div>\n",
       "<style scoped>\n",
       "    .dataframe tbody tr th:only-of-type {\n",
       "        vertical-align: middle;\n",
       "    }\n",
       "\n",
       "    .dataframe tbody tr th {\n",
       "        vertical-align: top;\n",
       "    }\n",
       "\n",
       "    .dataframe thead th {\n",
       "        text-align: right;\n",
       "    }\n",
       "</style>\n",
       "<table border=\"1\" class=\"dataframe\">\n",
       "  <thead>\n",
       "    <tr style=\"text-align: right;\">\n",
       "      <th></th>\n",
       "      <th>algorithm</th>\n",
       "      <th>name</th>\n",
       "      <th>backend</th>\n",
       "      <th>device</th>\n",
       "      <th>dtype</th>\n",
       "      <th>seed</th>\n",
       "      <th>abs_err</th>\n",
       "      <th>rel_err</th>\n",
       "      <th>transfer_time</th>\n",
       "      <th>compute_time</th>\n",
       "      <th>total_time</th>\n",
       "    </tr>\n",
       "  </thead>\n",
       "  <tbody>\n",
       "    <tr>\n",
       "      <th>0</th>\n",
       "      <td>RS</td>\n",
       "      <td>rs</td>\n",
       "      <td>NUMPY</td>\n",
       "      <td>CPU</td>\n",
       "      <td>fp64</td>\n",
       "      <td>10350481614395321474</td>\n",
       "      <td>0.000000e+00</td>\n",
       "      <td>0.000000e+00</td>\n",
       "      <td>0.000132</td>\n",
       "      <td>0.563160</td>\n",
       "      <td>0.563293</td>\n",
       "    </tr>\n",
       "    <tr>\n",
       "      <th>1</th>\n",
       "      <td>RS</td>\n",
       "      <td>rs_no_complex</td>\n",
       "      <td>NUMPY</td>\n",
       "      <td>CPU</td>\n",
       "      <td>fp64</td>\n",
       "      <td>10350481614395321474</td>\n",
       "      <td>4.440892e-16</td>\n",
       "      <td>3.936921e-16</td>\n",
       "      <td>0.000179</td>\n",
       "      <td>0.450990</td>\n",
       "      <td>0.451169</td>\n",
       "    </tr>\n",
       "    <tr>\n",
       "      <th>2</th>\n",
       "      <td>RS</td>\n",
       "      <td>rs</td>\n",
       "      <td>JAX</td>\n",
       "      <td>CPU</td>\n",
       "      <td>fp64</td>\n",
       "      <td>10350481614395321474</td>\n",
       "      <td>3.167910e-12</td>\n",
       "      <td>1.714339e-09</td>\n",
       "      <td>0.000586</td>\n",
       "      <td>0.167671</td>\n",
       "      <td>0.168258</td>\n",
       "    </tr>\n",
       "    <tr>\n",
       "      <th>3</th>\n",
       "      <td>RS</td>\n",
       "      <td>rs_no_complex</td>\n",
       "      <td>JAX</td>\n",
       "      <td>CPU</td>\n",
       "      <td>fp64</td>\n",
       "      <td>10350481614395321474</td>\n",
       "      <td>3.167910e-12</td>\n",
       "      <td>1.714339e-09</td>\n",
       "      <td>0.000894</td>\n",
       "      <td>0.336545</td>\n",
       "      <td>0.337439</td>\n",
       "    </tr>\n",
       "    <tr>\n",
       "      <th>4</th>\n",
       "      <td>RS</td>\n",
       "      <td>rs_vmap</td>\n",
       "      <td>JAX</td>\n",
       "      <td>CPU</td>\n",
       "      <td>fp64</td>\n",
       "      <td>10350481614395321474</td>\n",
       "      <td>3.013589e-12</td>\n",
       "      <td>2.272637e-09</td>\n",
       "      <td>0.000534</td>\n",
       "      <td>0.210408</td>\n",
       "      <td>0.210942</td>\n",
       "    </tr>\n",
       "    <tr>\n",
       "      <th>5</th>\n",
       "      <td>RS</td>\n",
       "      <td>rs</td>\n",
       "      <td>TORCH</td>\n",
       "      <td>CPU</td>\n",
       "      <td>fp64</td>\n",
       "      <td>10350481614395321474</td>\n",
       "      <td>1.247891e-13</td>\n",
       "      <td>6.095896e-12</td>\n",
       "      <td>0.000176</td>\n",
       "      <td>1.943525</td>\n",
       "      <td>1.943701</td>\n",
       "    </tr>\n",
       "    <tr>\n",
       "      <th>6</th>\n",
       "      <td>RS</td>\n",
       "      <td>rs_no_complex</td>\n",
       "      <td>TORCH</td>\n",
       "      <td>CPU</td>\n",
       "      <td>fp64</td>\n",
       "      <td>10350481614395321474</td>\n",
       "      <td>5.417888e-14</td>\n",
       "      <td>6.095730e-12</td>\n",
       "      <td>0.000274</td>\n",
       "      <td>0.152222</td>\n",
       "      <td>0.152496</td>\n",
       "    </tr>\n",
       "    <tr>\n",
       "      <th>7</th>\n",
       "      <td>RS</td>\n",
       "      <td>rs</td>\n",
       "      <td>CPP</td>\n",
       "      <td>CPU</td>\n",
       "      <td>fp64</td>\n",
       "      <td>10350481614395321474</td>\n",
       "      <td>3.027800e-12</td>\n",
       "      <td>2.151268e-09</td>\n",
       "      <td>0.000261</td>\n",
       "      <td>0.023109</td>\n",
       "      <td>0.023370</td>\n",
       "    </tr>\n",
       "    <tr>\n",
       "      <th>8</th>\n",
       "      <td>RS</td>\n",
       "      <td>rs_simd</td>\n",
       "      <td>CPP</td>\n",
       "      <td>CPU</td>\n",
       "      <td>fp64</td>\n",
       "      <td>10350481614395321474</td>\n",
       "      <td>5.399237e-12</td>\n",
       "      <td>4.612056e-10</td>\n",
       "      <td>0.000234</td>\n",
       "      <td>0.022460</td>\n",
       "      <td>0.022695</td>\n",
       "    </tr>\n",
       "    <tr>\n",
       "      <th>9</th>\n",
       "      <td>RS</td>\n",
       "      <td>rs_simulated_simd</td>\n",
       "      <td>CPP</td>\n",
       "      <td>CPU</td>\n",
       "      <td>fp64</td>\n",
       "      <td>10350481614395321474</td>\n",
       "      <td>3.142819e-12</td>\n",
       "      <td>2.221056e-09</td>\n",
       "      <td>0.000293</td>\n",
       "      <td>0.066152</td>\n",
       "      <td>0.066444</td>\n",
       "    </tr>\n",
       "  </tbody>\n",
       "</table>\n",
       "</div>"
      ],
      "text/plain": [
       "  algorithm               name backend device dtype                  seed  \\\n",
       "0        RS                 rs   NUMPY    CPU  fp64  10350481614395321474   \n",
       "1        RS      rs_no_complex   NUMPY    CPU  fp64  10350481614395321474   \n",
       "2        RS                 rs     JAX    CPU  fp64  10350481614395321474   \n",
       "3        RS      rs_no_complex     JAX    CPU  fp64  10350481614395321474   \n",
       "4        RS            rs_vmap     JAX    CPU  fp64  10350481614395321474   \n",
       "5        RS                 rs   TORCH    CPU  fp64  10350481614395321474   \n",
       "6        RS      rs_no_complex   TORCH    CPU  fp64  10350481614395321474   \n",
       "7        RS                 rs     CPP    CPU  fp64  10350481614395321474   \n",
       "8        RS            rs_simd     CPP    CPU  fp64  10350481614395321474   \n",
       "9        RS  rs_simulated_simd     CPP    CPU  fp64  10350481614395321474   \n",
       "\n",
       "        abs_err       rel_err  transfer_time  compute_time  total_time  \n",
       "0  0.000000e+00  0.000000e+00       0.000132      0.563160    0.563293  \n",
       "1  4.440892e-16  3.936921e-16       0.000179      0.450990    0.451169  \n",
       "2  3.167910e-12  1.714339e-09       0.000586      0.167671    0.168258  \n",
       "3  3.167910e-12  1.714339e-09       0.000894      0.336545    0.337439  \n",
       "4  3.013589e-12  2.272637e-09       0.000534      0.210408    0.210942  \n",
       "5  1.247891e-13  6.095896e-12       0.000176      1.943525    1.943701  \n",
       "6  5.417888e-14  6.095730e-12       0.000274      0.152222    0.152496  \n",
       "7  3.027800e-12  2.151268e-09       0.000261      0.023109    0.023370  \n",
       "8  5.399237e-12  4.612056e-10       0.000234      0.022460    0.022695  \n",
       "9  3.142819e-12  2.221056e-09       0.000293      0.066152    0.066444  "
      ]
     },
     "execution_count": 15,
     "metadata": {},
     "output_type": "execute_result"
    }
   ],
   "source": [
    "df.head(n=10)"
   ]
  },
  {
   "cell_type": "markdown",
   "id": "81da77c9",
   "metadata": {},
   "source": [
    "### Error distribution\n",
    "Considering only CPU implementations:\n",
    "  * what is the distribution of the error, among the backends and the single implementations?\n",
    "  * are there any outliers in the error?\n",
    "  * what is the most precise implementation for each backend?"
   ]
  },
  {
   "cell_type": "code",
   "execution_count": 16,
   "id": "e0008564",
   "metadata": {},
   "outputs": [
    {
     "name": "stderr",
     "output_type": "stream",
     "text": [
      "/tmp/ipykernel_13334/3491816441.py:7: SettingWithCopyWarning: \n",
      "A value is trying to be set on a copy of a slice from a DataFrame.\n",
      "Try using .loc[row_indexer,col_indexer] = value instead\n",
      "\n",
      "See the caveats in the documentation: https://pandas.pydata.org/pandas-docs/stable/user_guide/indexing.html#returning-a-view-versus-a-copy\n",
      "  local['log10_err'] = np.log10(local['rel_err'])\n"
     ]
    }
   ],
   "source": [
    "local = df[\n",
    "    (df['device'] == 'CPU') &\n",
    "    (df['abs_err'] > 0) &\n",
    "    (df['dtype'] == 'fp64')\n",
    "]\n",
    "\n",
    "local['log10_err'] = np.log10(local['rel_err'])"
   ]
  },
  {
   "cell_type": "code",
   "execution_count": 17,
   "id": "83354054",
   "metadata": {},
   "outputs": [],
   "source": [
    "# now we need to group the dataset with pairs (backend, name)\n",
    "# since I can't groupby two columns, I have to build a dictionary\n",
    "# of dictionaries\n",
    "grouped_by_backend_then_by_name = {}\n",
    "\n",
    "for backend, df_by_backend in local.groupby('backend'):\n",
    "    grouped_by_backend_then_by_name[backend] = {\n",
    "        name: df_by_backend_and_name['log10_err']\n",
    "        for name, df_by_backend_and_name in df_by_backend.groupby('name')\n",
    "    }"
   ]
  },
  {
   "cell_type": "code",
   "execution_count": 18,
   "id": "fc0052b1",
   "metadata": {},
   "outputs": [
    {
     "data": {
      "image/png": "[encoded data removed]",
      "text/plain": [
       "<Figure size 640x480 with 1 Axes>"
      ]
     },
     "metadata": {},
     "output_type": "display_data"
    }
   ],
   "source": [
    "# this is a sophisticated type of plot\n",
    "# I need to group visualizations based on the backend,\n",
    "fig, ax = plt.subplots()\n",
    "\n",
    "bar_width = 0.2\n",
    "intra_gap = 0.01\n",
    "group_gap = 0.6\n",
    "\n",
    "offset = 0.0\n",
    "x_positions = []\n",
    "x_labels = []\n",
    "\n",
    "for backend, grouped_by_name in grouped_by_backend_then_by_name.items():\n",
    "    # the numpy implementation is only used as a reference, so it's not very interesting\n",
    "    if backend == 'NUMPY':\n",
    "        continue\n",
    "\n",
    "    color = backend_color_map[backend]\n",
    "    positions = np.linspace(offset, offset + len(grouped_by_name) * (bar_width + intra_gap), num=len(grouped_by_name))\n",
    "\n",
    "    ax.boxplot(\n",
    "        grouped_by_name.values(),\n",
    "        positions=positions,\n",
    "        widths=bar_width,\n",
    "        patch_artist=True,\n",
    "        boxprops=dict(facecolor=color, color='black'),\n",
    "    )\n",
    "    ax.bar(0, 0, color=color, label=backend)\n",
    "\n",
    "    for name in grouped_by_name.keys():\n",
    "        x_labels.append(name)\n",
    "\n",
    "    x_positions.extend(positions)\n",
    "    offset = positions[-1] + group_gap\n",
    "\n",
    "ax.set_title('Error distribution for each backend')\n",
    "ax.set_xticks(x_positions)\n",
    "ax.set_xticklabels(x_labels, rotation=65, ha='right')\n",
    "ax.set_ylim((-16.0, -8.0))\n",
    "ax.set_ylabel('$log_{10}(err)$')\n",
    "ax.legend(title=\"Backend\")\n",
    "\n",
    "plt.tight_layout()\n",
    "plt.show()"
   ]
  },
  {
   "cell_type": "markdown",
   "id": "93152686",
   "metadata": {},
   "source": [
    "The numpy implementation was the reference in this experiment, so it's normal that its absolute error is the lowest. The other implementations could have introduced errors by:\n",
    "  * calling lower precision variants of trigonometric functions\n",
    "  * implementing a different reduction strategy for the plus operator\n",
    "\n",
    "The phase is uniformely distributed in $[0, 2 \\pi]$ so this kind of errors don't scare me. This is primarely a test for buggy implementations and fortunately there are no outliers here."
   ]
  },
  {
   "cell_type": "code",
   "execution_count": 19,
   "id": "52425eb3",
   "metadata": {},
   "outputs": [
    {
     "data": {
      "text/plain": [
       "[('CPP', 'rs_simd', np.float64(-9.235824896029051)),\n",
       " ('JAX', 'rs_vmap', np.float64(-9.259206920481146)),\n",
       " ('NUMPY', 'rs_no_complex', np.float64(-15.399517353539103)),\n",
       " ('TORCH', 'rs_no_complex', np.float64(-11.53618876514913))]"
      ]
     },
     "execution_count": 19,
     "metadata": {},
     "output_type": "execute_result"
    }
   ],
   "source": [
    "# we finally produce a record of the best implementations (based on the median error)\n",
    "# for a given backend\n",
    "best_implementations_for_log10_error = []\n",
    "\n",
    "for backend, grouped_by_name in grouped_by_backend_then_by_name.items():\n",
    "    best = min(\n",
    "        map(\n",
    "            lambda p: (p[0], np.median(p[1])),\n",
    "            grouped_by_name.items()\n",
    "        ),\n",
    "        key = lambda p: np.median(p[-1])\n",
    "    )\n",
    "    best_implementations_for_log10_error.append((backend, *best))\n",
    "\n",
    "best_implementations_for_log10_error"
   ]
  },
  {
   "cell_type": "code",
   "execution_count": 20,
   "id": "a922680a",
   "metadata": {},
   "outputs": [
    {
     "data": {
      "text/plain": [
       "[('CPP', 'JAX', 'NUMPY', 'TORCH'),\n",
       " ('rs_simd', 'rs_vmap', 'rs_no_complex', 'rs_no_complex'),\n",
       " (np.float64(-9.235824896029051),\n",
       "  np.float64(-9.259206920481146),\n",
       "  np.float64(-15.399517353539103),\n",
       "  np.float64(-11.53618876514913))]"
      ]
     },
     "execution_count": 20,
     "metadata": {},
     "output_type": "execute_result"
    }
   ],
   "source": [
    "list(zip(*best_implementations_for_log10_error))"
   ]
  },
  {
   "cell_type": "code",
   "execution_count": 21,
   "id": "93155b38",
   "metadata": {},
   "outputs": [
    {
     "data": {
      "image/png": "[encoded data removed]",
      "text/plain": [
       "<Figure size 640x480 with 1 Axes>"
      ]
     },
     "metadata": {},
     "output_type": "display_data"
    }
   ],
   "source": [
    "fig, ax = plt.subplots()\n",
    "\n",
    "backends, names, median_log10_errors = list(\n",
    "    zip(*best_implementations_for_log10_error)\n",
    ")\n",
    "\n",
    "x_positions = np.arange(len(names))\n",
    "ax.bar(\n",
    "    x_positions,\n",
    "    median_log10_errors,\n",
    "    color=[\n",
    "        backend_color_map[b]\n",
    "        for b in backends\n",
    "    ],\n",
    "    label=backends\n",
    ")\n",
    "\n",
    "ax.set_xticks(x_positions)\n",
    "ax.set_xticklabels(names)\n",
    "\n",
    "ax.set_title(\"Best implementation error (higher is better)\")\n",
    "ax.set_ylim((-16.0, -8.0))\n",
    "ax.set_ylabel('$log_{10}(err)$')\n",
    "ax.yaxis.set_inverted(True)\n",
    "ax.legend(title='Backend')\n",
    "\n",
    "plt.show()"
   ]
  },
  {
   "cell_type": "markdown",
   "id": "b281b34f",
   "metadata": {},
   "source": [
    "### Performance\n",
    "The data campaign doesn't specifically test for performance as it will be very wasteful to profile a known bad implementation. From this data we can screen for the best implementation in each category, then we can inform more accurate test pipelines.\n",
    "\n",
    "We can reuse the same grouped comparison plots for the runtime plots. Speedup plots are required."
   ]
  },
  {
   "cell_type": "code",
   "execution_count": 22,
   "id": "40311c6d",
   "metadata": {},
   "outputs": [],
   "source": [
    "local = df[\n",
    "    (df['algorithm'] == 'RS') &\n",
    "    (df['device'] == 'CPU') &\n",
    "    (df['dtype'] == 'fp64')\n",
    "]"
   ]
  },
  {
   "cell_type": "code",
   "execution_count": 23,
   "id": "d065f4fc",
   "metadata": {},
   "outputs": [],
   "source": [
    "grouped_by_backend_then_by_name = {}\n",
    "\n",
    "for backend, df_by_backend in local.groupby('backend'):\n",
    "    grouped_by_backend_then_by_name[backend] = {\n",
    "        name: df_by_backend_and_name['total_time']\n",
    "        for name, df_by_backend_and_name in df_by_backend.groupby('name')\n",
    "    }"
   ]
  },
  {
   "cell_type": "code",
   "execution_count": 24,
   "id": "a11086b0",
   "metadata": {},
   "outputs": [
    {
     "data": {
      "image/png": "[encoded data removed]",
      "text/plain": [
       "<Figure size 600x600 with 1 Axes>"
      ]
     },
     "metadata": {},
     "output_type": "display_data"
    }
   ],
   "source": [
    "fig, ax = plt.subplots(figsize=(6,6))\n",
    "\n",
    "# plotting parameters, for decoration\n",
    "bar_width = 0.2\n",
    "intra_gap = 0.05\n",
    "group_gap = 0.6\n",
    "\n",
    "offset = 0.0\n",
    "x_positions = []\n",
    "x_labels = []\n",
    "\n",
    "for backend, grouped_by_name in grouped_by_backend_then_by_name.items():\n",
    "    color = backend_color_map[backend]\n",
    "    positions = np.linspace(offset, offset + len(grouped_by_name) * (bar_width + intra_gap), num=len(grouped_by_name))\n",
    "\n",
    "    ax.boxplot(\n",
    "        grouped_by_name.values(),\n",
    "        positions=positions,\n",
    "        widths=bar_width,\n",
    "        patch_artist=True,\n",
    "        boxprops=dict(facecolor=color, color='black'),\n",
    "        medianprops=dict(color=color),\n",
    "    )\n",
    "    ax.bar(0, 0, color=color, label=backend)\n",
    "\n",
    "    for name in grouped_by_name.keys():\n",
    "        x_labels.append(name)\n",
    "\n",
    "    x_positions.extend(positions)\n",
    "    offset = positions[-1] + group_gap\n",
    "\n",
    "ax.set_title('Runtime distribution for each backend')\n",
    "ax.set_xticks(x_positions)\n",
    "ax.set_xticklabels(x_labels, rotation=65, ha='right')\n",
    "ax.set_ylim((0.0, 2.0))\n",
    "ax.set_ylabel('runtime (s)')\n",
    "ax.legend(title=\"Backend\")\n",
    "\n",
    "plt.tight_layout()\n",
    "plt.show()"
   ]
  },
  {
   "cell_type": "markdown",
   "id": "11765a2a",
   "metadata": {},
   "source": [
    "The big variability in the torch version of `rs` is due to:\n",
    "  * JIT compilation\n",
    "  * torch non fully supporting complex numbers operations\n",
    "\n",
    "I'm happy that my C++ implementations beat pytorch. This means that I'll still have a job in the future."
   ]
  },
  {
   "cell_type": "code",
   "execution_count": 25,
   "id": "081e3503",
   "metadata": {},
   "outputs": [
    {
     "data": {
      "text/plain": [
       "[('CPP', 'rs', np.float64(0.02542922449993057)),\n",
       " ('JAX', 'rs', np.float64(0.12159152399999584)),\n",
       " ('NUMPY', 'rs_no_complex', np.float64(0.5058575989996825)),\n",
       " ('TORCH', 'rs_no_complex', np.float64(0.1044985774997258))]"
      ]
     },
     "execution_count": 25,
     "metadata": {},
     "output_type": "execute_result"
    }
   ],
   "source": [
    "# we finally produce a record of the best implementations (based on the median runtime)\n",
    "# for a given backend\n",
    "best_implementations_for_runtime = []\n",
    "\n",
    "for backend, grouped_by_name in grouped_by_backend_then_by_name.items():\n",
    "    best = min(\n",
    "        map(\n",
    "            lambda p: (p[0], np.median(p[1])),\n",
    "            grouped_by_name.items()\n",
    "        ),\n",
    "        key = lambda p: np.median(p[-1])\n",
    "    )\n",
    "    best_implementations_for_runtime.append((backend, *best))\n",
    "\n",
    "best_implementations_for_runtime"
   ]
  },
  {
   "cell_type": "code",
   "execution_count": 26,
   "id": "2a5a7203",
   "metadata": {},
   "outputs": [
    {
     "data": {
      "image/png": "[encoded data removed]",
      "text/plain": [
       "<Figure size 640x480 with 1 Axes>"
      ]
     },
     "metadata": {},
     "output_type": "display_data"
    }
   ],
   "source": [
    "fig, ax = plt.subplots()\n",
    "\n",
    "backends, names, median_runtime = list(\n",
    "    zip(*best_implementations_for_runtime)\n",
    ")\n",
    "\n",
    "bars = ax.bar(\n",
    "    backends,\n",
    "    median_runtime,\n",
    "    color=[\n",
    "        backend_color_map[b]\n",
    "        for b in backends\n",
    "    ],\n",
    ")\n",
    "\n",
    "ax.set_title(\"Best runtime (lower is better)\")\n",
    "ax.set_ylabel('runtime (s)')\n",
    "\n",
    "ax.bar_label(\n",
    "    bars,\n",
    "    labels=[f\"{v:.3f}\" for v in median_runtime],\n",
    "    padding=1\n",
    ")\n",
    "\n",
    "plt.show()"
   ]
  },
  {
   "cell_type": "markdown",
   "id": "6f7fd8ac",
   "metadata": {},
   "source": [
    "You can find the name of the best implementations for each backend in a previous cell. I didn't but in the plot because of readability.\n",
    "\n",
    "The best C++ implementation is the original one. I didn't use any fancy technique, and probably the difference with pytorch is because of a strange behaviour when linking with OpenMP. It seems that the pytorch runtime already has OpenMP symbols, but are not really efficient. When I produce the C++ library with proper OpenMP flags I get a CMake error on the compilation, but a boost in performance."
   ]
  },
  {
   "cell_type": "code",
   "execution_count": 27,
   "id": "0d4f659e",
   "metadata": {},
   "outputs": [],
   "source": [
    "backend_to_runtime_map = {\n",
    "    backend: runtime\n",
    "    for backend, name, runtime in best_implementations_for_runtime\n",
    "}\n",
    "\n",
    "speedup_to_numpy = {\n",
    "    backend: backend_to_runtime_map['NUMPY'] / runtime\n",
    "    for backend, runtime in backend_to_runtime_map.items()\n",
    "}\n",
    "\n",
    "speedup_to_torch = {\n",
    "    backend: backend_to_runtime_map['TORCH'] / runtime\n",
    "    for backend, runtime in backend_to_runtime_map.items()\n",
    "}"
   ]
  },
  {
   "cell_type": "code",
   "execution_count": 28,
   "id": "3259c943",
   "metadata": {},
   "outputs": [],
   "source": [
    "def plot_speedup_to_x(backend_to_runtime_map, x: str):\n",
    "    speedup_to_x = {\n",
    "        backend: backend_to_runtime_map[x] / runtime\n",
    "        for backend, runtime in backend_to_runtime_map.items()\n",
    "    }\n",
    "\n",
    "    fig, ax = plt.subplots()\n",
    "\n",
    "    bars = ax.bar(\n",
    "        speedup_to_x.keys(),\n",
    "        speedup_to_x.values(),\n",
    "        color=[\n",
    "            backend_color_map[b]\n",
    "            for b in backends\n",
    "        ],\n",
    "    )\n",
    "\n",
    "    ax.set_title(f\"Speedup to {x} ({csv_filename})\")\n",
    "    ax.set_ylabel('speedup')\n",
    "\n",
    "    ax.bar_label(\n",
    "        bars,\n",
    "        labels=[f\"{v:.1f}x\" for v in speedup_to_x.values()],\n",
    "        padding=1\n",
    "    )\n",
    "\n",
    "    plt.show()"
   ]
  },
  {
   "cell_type": "code",
   "execution_count": 29,
   "id": "69b10cfa",
   "metadata": {},
   "outputs": [
    {
     "data": {
      "image/png": "[encoded data removed]",
      "text/plain": [
       "<Figure size 640x480 with 1 Axes>"
      ]
     },
     "metadata": {},
     "output_type": "display_data"
    }
   ],
   "source": [
    "plot_speedup_to_x(backend_to_runtime_map, 'NUMPY')"
   ]
  },
  {
   "cell_type": "code",
   "execution_count": 30,
   "id": "fdd856ce",
   "metadata": {},
   "outputs": [
    {
     "data": {
      "image/png": "[encoded data removed]",
      "text/plain": [
       "<Figure size 640x480 with 1 Axes>"
      ]
     },
     "metadata": {},
     "output_type": "display_data"
    }
   ],
   "source": [
    "plot_speedup_to_x(backend_to_runtime_map, 'TORCH')"
   ]
  }
 ],
 "metadata": {
  "kernelspec": {
   "display_name": "venv",
   "language": "python",
   "name": "python3"
  },
  "language_info": {
   "codemirror_mode": {
    "name": "ipython",
    "version": 3
   },
   "file_extension": ".py",
   "mimetype": "text/x-python",
   "name": "python",
   "nbconvert_exporter": "python",
   "pygments_lexer": "ipython3",
   "version": "3.12.3"
  }
 },
 "nbformat": 4,
 "nbformat_minor": 5
}
